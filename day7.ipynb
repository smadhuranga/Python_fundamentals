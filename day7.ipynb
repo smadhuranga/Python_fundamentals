{
 "cells": [
  {
   "cell_type": "code",
   "execution_count": null,
   "id": "3696ca91",
   "metadata": {},
   "outputs": [
    {
     "name": "stdout",
     "output_type": "stream",
     "text": [
      "[ 5  8  3 10]\n",
      "<class 'numpy.ndarray'>\n"
     ]
    }
   ],
   "source": [
    "#NumPy Example\n",
    "# This script demonstrates how to create a NumPy array and print its contents and type.\n",
    "# It requires the NumPy library to be installed in your Python environment.\n",
    "\n",
    "import numpy as np\n",
    "arr = np.array([5, 8, 3, 10])\n",
    "print(arr)\n",
    "print(type(arr))\n",
    " "
   ]
  },
  {
   "cell_type": "code",
   "execution_count": null,
   "id": "254ec81d",
   "metadata": {},
   "outputs": [
    {
     "name": "stdout",
     "output_type": "stream",
     "text": [
      "[ 6  8 10 12]\n",
      "[1, 2, 3, 4, 5, 6, 7, 8]\n",
      "[ 5 12 21 32]\n",
      "[1, 2, 3, 4, 1, 2, 3, 4]\n",
      "[2 4 6 8]\n",
      "[3 4 5 6]\n",
      "[-4 -4 -4 -4]\n",
      "[0.2        0.33333333 0.42857143 0.5       ]\n",
      "[ 1  4  9 16]\n",
      "[1 0 1 0]\n",
      "[0 1 1 2]\n",
      "[False False  True  True]\n",
      "[3 4]\n",
      "[2 4]\n",
      "[1 3]\n"
     ]
    }
   ],
   "source": [
    "arr1 = np.array([1, 2, 3, 4])\n",
    "arr2 = np.array([5, 6, 7, 8])\n",
    "list1 = [1, 2, 3, 4]\n",
    "list2 = [5, 6, 7, 8]\n",
    "print(arr1 + arr2)  # Element-wise addition\n",
    "print(list1 + list2)  # List concatenation\n",
    "print(arr1 * arr2)  # Element-wise multiplication\n",
    "print(list1 * 2)  # List repetition\n",
    "print(arr1 * 2)  # Element-wise multiplication with scalar\n",
    "print(arr1 + 2)  # Element-wise addition with scalar\n",
    "print(arr1 - arr2)  # Element-wise subtraction\n",
    "print(arr1 / arr2)  # Element-wise division\n",
    "print(arr1 ** 2)  # Element-wise exponentiation\n",
    "print(arr1 % 2)  # Element-wise modulus operation\n",
    "print(arr1 // 2)  # Element-wise floor division\n",
    "print(arr1 > 2)  # Element-wise comparison\n"
   ]
  },
  {
   "cell_type": "code",
   "execution_count": 8,
   "id": "be2ed44d",
   "metadata": {},
   "outputs": [
    {
     "ename": "ValueError",
     "evalue": "operands could not be broadcast together with shapes (4,) (3,) ",
     "output_type": "error",
     "traceback": [
      "\u001b[31m---------------------------------------------------------------------------\u001b[39m",
      "\u001b[31mValueError\u001b[39m                                Traceback (most recent call last)",
      "\u001b[36mCell\u001b[39m\u001b[36m \u001b[39m\u001b[32mIn[8]\u001b[39m\u001b[32m, line 3\u001b[39m\n\u001b[32m      1\u001b[39m arr1 = np.array([\u001b[32m1\u001b[39m, \u001b[32m2\u001b[39m, \u001b[32m3\u001b[39m, \u001b[32m4\u001b[39m])\n\u001b[32m      2\u001b[39m arr2 = np.array([\u001b[32m5\u001b[39m, \u001b[32m6\u001b[39m, \u001b[32m7\u001b[39m])\n\u001b[32m----> \u001b[39m\u001b[32m3\u001b[39m \u001b[38;5;28mprint\u001b[39m(\u001b[43marr1\u001b[49m\u001b[43m \u001b[49m\u001b[43m+\u001b[49m\u001b[43m \u001b[49m\u001b[43marr2\u001b[49m)  \u001b[38;5;66;03m# This will raise an error due to shape mismatch\u001b[39;00m\n",
      "\u001b[31mValueError\u001b[39m: operands could not be broadcast together with shapes (4,) (3,) "
     ]
    }
   ],
   "source": [
    "arr1 = np.array([1, 2, 3, 4])\n",
    "arr2 = np.array([5, 6, 7])\n",
    "print(arr1 + arr2)  # This will raise an error due to shape mismatch\n"
   ]
  },
  {
   "cell_type": "code",
   "execution_count": 10,
   "id": "166afdaf",
   "metadata": {},
   "outputs": [
    {
     "name": "stdout",
     "output_type": "stream",
     "text": [
      "[1.         1.41421356 1.73205081 2.        ]\n",
      "10\n",
      "2.5\n",
      "4\n",
      "1\n"
     ]
    }
   ],
   "source": [
    "# Square root of each element in arr1\n",
    "print(np.sqrt(arr1))  # Element-wise square root\n",
    "\n",
    "# Summation of all elements in arr1\n",
    "print(np.sum(arr1))  # Sum of all elements\n",
    "\n",
    "# Mean of all elements in arr1\n",
    "print(np.mean(arr1))  # Mean of all elements\n",
    "\n",
    "# Maximum value and minimum value in arr1\n",
    "print(np.max(arr1))  # Maximum value\n",
    "print(np.min(arr1))  # Minimum value"
   ]
  },
  {
   "cell_type": "code",
   "execution_count": 12,
   "id": "0562b440",
   "metadata": {},
   "outputs": [
    {
     "name": "stdout",
     "output_type": "stream",
     "text": [
      "[[1 2 3]\n",
      " [4 5 6]]\n",
      "[[[1 2]\n",
      "  [3 4]]\n",
      "\n",
      " [[5 6]\n",
      "  [7 8]]]\n"
     ]
    }
   ],
   "source": [
    "# 2D Array Example\n",
    "arr2d = np.array([[1, 2, 3], [4, 5, 6]])\n",
    "print(arr2d)  # Print the 2D array\n",
    "\n",
    "# 3D Array Example\n",
    "arr3d = np.array([[[1, 2], [3, 4]], [[5, 6], [7, 8]]])\n",
    "print(arr3d)  # Print the 3D array"
   ]
  },
  {
   "cell_type": "code",
   "execution_count": 20,
   "id": "3a100e83",
   "metadata": {},
   "outputs": [
    {
     "name": "stdout",
     "output_type": "stream",
     "text": [
      "4\n",
      "1\n",
      "(4,)\n"
     ]
    }
   ],
   "source": [
    "# Size of the array\n",
    "arr1 = np.array([1, 2, 3, 4])\n",
    "arr2 = np.array([5, 6, 7, 8])\n",
    "print(arr2.size)  # Size of the  array\n",
    "print(arr1.ndim)  # Number of dimensions of the array\n",
    "print(arr2.shape)  # Shape of the array"
   ]
  },
  {
   "cell_type": "code",
   "execution_count": null,
   "id": "db9c65f4",
   "metadata": {},
   "outputs": [
    {
     "name": "stdout",
     "output_type": "stream",
     "text": [
      "12\n",
      "3\n",
      "(2, 2, 3)\n"
     ]
    }
   ],
   "source": [
    "arr_1 = np.array([[[8,3,1],[5,9,8]],[[20,10,11],[6,4,3]]]) # 3D array\n",
    "\n",
    "print(arr_1.size)  # Size of the 3D array\n",
    "print(arr_1.ndim)  # Number of dimensions of the 3D array\n",
    "print(arr_1.shape)  # Shape of the 3D array"
   ]
  },
  {
   "cell_type": "code",
   "execution_count": 24,
   "id": "56c95351",
   "metadata": {},
   "outputs": [
    {
     "name": "stdout",
     "output_type": "stream",
     "text": [
      "int64\n",
      "float64\n"
     ]
    }
   ],
   "source": [
    "# Data type of the array\n",
    "\n",
    "arr1 = np.array([1, 2, 3, 4])\n",
    "arr2 = np.array([5, 6, 7, 8.5])\n",
    "print(arr1.dtype)  # Print the data type of the array\n",
    "print(arr2.dtype)  # Print the data type of the array with float"
   ]
  },
  {
   "cell_type": "code",
   "execution_count": null,
   "id": "2a6547d0",
   "metadata": {},
   "outputs": [
    {
     "name": "stdout",
     "output_type": "stream",
     "text": [
      "3\n",
      "5\n",
      "3\n",
      "5\n",
      "6\n",
      "8\n"
     ]
    }
   ],
   "source": [
    "# Numpy Indexing\n",
    "\n",
    "arr_1 = np.array([1, 2, 3, 4, 5])\n",
    "print(arr_1[2])  # Access the first element\n",
    "\n",
    "arr_2 = np.array([[1, 2, 3], [4, 5, 6]])\n",
    "print(arr_2[1, 1])  # Access the element at second row, second column\n",
    "\n",
    "arr_3 = np.array([[[1, 2], [3, 4]], [[5, 6], [7, 8]]])\n",
    "print(arr_3[0, 1, 0])  # Access the element at first layer, second row, first column\n",
    "\n",
    "# Negative Indexing\n",
    "print(arr_1[-1])  # Access the last element\n",
    "print(arr_2[-1, -1])  # Access the last element of the last row\n",
    "print(arr_3[-1, -1, -1])  # Access the last"
   ]
  },
  {
   "cell_type": "code",
   "execution_count": 30,
   "id": "f6ac65cc",
   "metadata": {},
   "outputs": [
    {
     "name": "stdout",
     "output_type": "stream",
     "text": [
      "[False False  True  True  True]\n",
      "[3 4 5]\n"
     ]
    }
   ],
   "source": [
    "# Boolean Indexing\n",
    "arr_4 = np.array([1, 2, 3, 4, 5])\n",
    "condition = arr_4 > 2\n",
    "print(condition)  # Boolean array where condition is True\n",
    "print(arr_4[condition])  # Access elements where condition is True"
   ]
  },
  {
   "cell_type": "code",
   "execution_count": null,
   "id": "846c176e",
   "metadata": {},
   "outputs": [
    {
     "name": "stdout",
     "output_type": "stream",
     "text": [
      "[30]\n",
      "[10 50]\n",
      "[10]\n"
     ]
    }
   ],
   "source": [
    "arr = np.array([30 , 10 ,40 , 50 ,20])\n",
    "print(arr[(arr > 20) & (arr < 40)])  # Access elements greater than 20 and less than 40\n",
    "print(arr[(arr < 20) | (arr > 40)])  # Access elements less than 20 or greater than 40\n",
    "print(arr[(arr < 20) & ~ (arr > 40)]) # Access elements less than 20 and not greater than 40"
   ]
  },
  {
   "cell_type": "code",
   "execution_count": 53,
   "id": "cf52b221",
   "metadata": {},
   "outputs": [
    {
     "name": "stdout",
     "output_type": "stream",
     "text": [
      "[31 30 32 31 35 31 30]\n"
     ]
    }
   ],
   "source": [
    "temp = np.array([[31,30,28], [29,29,32], [26,24,27],[31,24, 35], [28,31,30]])\n",
    "\n",
    "print(temp[temp>np.mean(temp)])"
   ]
  },
  {
   "cell_type": "code",
   "execution_count": 62,
   "id": "5c3b2565",
   "metadata": {},
   "outputs": [
    {
     "name": "stdout",
     "output_type": "stream",
     "text": [
      "[[0. 0. 0.]\n",
      " [0. 0. 0.]]\n",
      "[0. 0. 0. 0. 0.]\n",
      "[[1. 1. 1.]\n",
      " [1. 1. 1.]]\n",
      "[[7 7 7]\n",
      " [7 7 7]]\n",
      "[[3.5e-323 3.5e-323 3.5e-323]\n",
      " [3.5e-323 3.5e-323 3.5e-323]]\n"
     ]
    }
   ],
   "source": [
    "# Numpy.zeros and Numpy.ones np.full\n",
    "arr_zeros = np.zeros((2, 3))  # Create a 2x3 array of zeros\n",
    "print(arr_zeros)  # Print the array of zeros\n",
    "\n",
    "arr_ones = np.zeros(5) # Create a 1D array of zeros with 5 elements \n",
    "print(arr_ones)  # Print the 1D array of zeros\n",
    "\n",
    "arr_ones = np.ones((2, 3))  # Create a 2x3 array of ones\n",
    "print(arr_ones)  # Print the array of ones\n",
    "\n",
    "\n",
    "arr_full = np.full((2, 3), 7)  # Create a 2x3 array filled with the value 7\n",
    "print(arr_full)  # Print the array filled with 7\n",
    "\n",
    "arr = np.empty((2, 3))  # Create a 2x3 empty array\n",
    "print(arr)  # Print the empty array (values are uninitialized)\n",
    "\n"
   ]
  },
  {
   "cell_type": "code",
   "execution_count": null,
   "id": "a854ac15",
   "metadata": {},
   "outputs": [
    {
     "name": "stdout",
     "output_type": "stream",
     "text": [
      "[[1 2 3]\n",
      " [1 2 3]]\n"
     ]
    }
   ],
   "source": [
    "\n",
    "print(np.full((2, 3), (1,2,3)))  # Create a 2x3 array filled with the tuple (1, 2, 3)"
   ]
  },
  {
   "cell_type": "code",
   "execution_count": null,
   "id": "9fd25187",
   "metadata": {},
   "outputs": [
    {
     "name": "stdout",
     "output_type": "stream",
     "text": [
      "      Name  Age\n",
      "0    Alice   25\n",
      "1      Bob   30\n",
      "2  Charlie   35\n",
      "<class 'pandas.core.frame.DataFrame'>\n",
      "Alice\n",
      "25\n",
      "Name    Charlie\n",
      "Age          35\n",
      "Name: 2, dtype: object\n",
      "\n",
      "Name    Bob\n",
      "Age      30\n",
      "Name: 1, dtype: object\n",
      "\n"
     ]
    }
   ],
   "source": [
    "# Pandas Library\n",
    "# Pandas is a powerful data manipulation and analysis library for Python.\n",
    "# It provides data structures like Series and DataFrame for handling structured data.\n",
    "import pandas as pd\n",
    "\n",
    "# Create a Pandas Series\n",
    "data = {'Name': ['Alice', 'Bob', 'Charlie'],\n",
    "        'Age': [25, 30, 35]}\n",
    "df = pd.DataFrame(data)\n",
    "print(df)  # Print the DataFrame\n",
    "print(type(df))  # Print the type of the DataFrame\n",
    "print(df.loc[0 , 'Name'])  # Access the first row's 'Name' column value\n",
    "print(df.iloc[0, 1])  # Access the first row's second column value\n",
    "print(df.loc[2]) # Access the third row\n",
    "\n",
    "print(\"\")\n",
    "\n",
    "print(df.iloc[1]) # Access the third row using integer location\n",
    "\n",
    "print(\"\")\n",
    "\n"
   ]
  },
  {
   "cell_type": "code",
   "execution_count": 77,
   "id": "c4574432",
   "metadata": {},
   "outputs": [
    {
     "name": "stdout",
     "output_type": "stream",
     "text": [
      "             Name  Age\n",
      "student1    Alice   25\n",
      "student2      Bob   30\n",
      "student3  Charlie   35\n",
      "student4    David   40\n"
     ]
    }
   ],
   "source": [
    "data = {'Name': ['Alice', 'Bob', 'Charlie' , 'David'],\n",
    "        'Age': [25, 30, 35 , 40]}\n",
    "df = pd.DataFrame(data, index=[\"student1\", \"student2\", \"student3\" , \"student4\"])\n",
    "print(df)  # Print the DataFrame with custom index"
   ]
  },
  {
   "cell_type": "code",
   "execution_count": 3,
   "id": "6d7e0de7",
   "metadata": {},
   "outputs": [
    {
     "name": "stdout",
     "output_type": "stream",
     "text": [
      "             Name  Age\n",
      "student1    Alice   25\n",
      "student2      Bob   30\n",
      "student3  Charlie   35\n",
      "student4    David   40\n",
      "\n",
      "Name    Bob\n",
      "Age      30\n",
      "Name: student2, dtype: object\n",
      "\n",
      "Name    Charlie\n",
      "Age          35\n",
      "Name: student3, dtype: object\n",
      "\n",
      "           Name  Age\n",
      "student1  Alice   25\n",
      "student2    Bob   30\n",
      "\n",
      "student1    25\n",
      "student2    30\n",
      "student3    35\n",
      "student4    40\n",
      "Name: Age, dtype: int64\n",
      "\n",
      "Index(['Name', 'Age'], dtype='object')\n",
      "\n",
      "['Name', 'Age']\n",
      "\n",
      "Index(['student1', 'student2', 'student3', 'student4'], dtype='object')\n",
      "\n",
      "['student1', 'student2', 'student3', 'student4']\n"
     ]
    }
   ],
   "source": [
    "import pandas as pd\n",
    "data = {'Name': ['Alice', 'Bob', 'Charlie' , 'David'],\n",
    "        'Age': [25, 30, 35 , 40]}\n",
    "df = pd.DataFrame(data, index=[\"student1\", \"student2\", \"student3\" , \"student4\"])\n",
    "print(df)  # Print the DataFrame with custom index\n",
    "print(\"\")\n",
    "print(df.iloc[1]) \n",
    "print(\"\")\n",
    "print(df.loc['student3'])   \n",
    "print(\"\")\n",
    "lst = [\"student1\", \"student2\"]\n",
    "print(df.loc[lst])  # Access multiple rows using a list of labels\n",
    "print(\"\")\n",
    "age_clomn = df['Age']  # Access the 'Age' column\n",
    "print(age_clomn)  # Print the 'Age' column\n",
    "print(\"\")\n",
    "print(df.columns)  # Print the column names of the DataFrame\n",
    "print(\"\")\n",
    "print(list(df.columns))  # Convert column names to a list\n",
    "print(\"\")\n",
    "print(df.index)  # Print the index of the DataFrame\n",
    "print(\"\")\n",
    "print(list(df.index))  # Convert index to a list"
   ]
  },
  {
   "cell_type": "code",
   "execution_count": 4,
   "id": "ca45cd86",
   "metadata": {},
   "outputs": [
    {
     "name": "stdout",
     "output_type": "stream",
     "text": [
      "             Name  Age\n",
      "student1    Alice   25\n",
      "student2      Bob   30\n",
      "student3  Charlie   35\n",
      "student4    David   40\n",
      "\n",
      "8\n",
      "\n",
      "(4, 2)\n",
      "\n",
      "4\n"
     ]
    }
   ],
   "source": [
    "import pandas as pd\n",
    "data = {'Name': ['Alice', 'Bob', 'Charlie' , 'David'],\n",
    "        'Age': [25, 30, 35 , 40]}\n",
    "df = pd.DataFrame(data, index=[\"student1\", \"student2\", \"student3\" , \"student4\"])\n",
    "print(df)  # Print the DataFrame with custom index\n",
    "print(\"\")\n",
    "print(df.size)  # Print the size of the DataFrame\n",
    "print(\"\")\n",
    "print(df.shape)  # Print the shape of the DataFrame (rows, columns)\n",
    "print(\"\")\n",
    "print(len(df))  # Print the number of rows in the DataFrame"
   ]
  },
  {
   "cell_type": "code",
   "execution_count": 5,
   "id": "eaf0dda0",
   "metadata": {},
   "outputs": [
    {
     "name": "stdout",
     "output_type": "stream",
     "text": [
      "[['Alice' 25]\n",
      " ['Bob' 30]\n",
      " ['Charlie' 35]\n",
      " ['David' 40]]\n",
      "\n",
      "<class 'numpy.ndarray'>\n",
      "\n"
     ]
    }
   ],
   "source": [
    "print(df.values)  # Print the values of the DataFrame\n",
    "print(\"\")\n",
    "print(type(df.values))  # Print the type of the values in the DataFrame\n",
    "print(\"\")"
   ]
  },
  {
   "cell_type": "code",
   "execution_count": 7,
   "id": "35db8d51",
   "metadata": {},
   "outputs": [
    {
     "name": "stdout",
     "output_type": "stream",
     "text": [
      "32.5\n",
      "\n",
      "Name    AliceBobCharlieDavid\n",
      "Age                      130\n",
      "dtype: object\n",
      "\n"
     ]
    }
   ],
   "source": [
    "print(df['Age'].mean())  # Print the mean of each column\n",
    "print(\"\")\n",
    "print(df.sum())  # Print the sum of each column\n",
    "print(\"\")"
   ]
  },
  {
   "cell_type": "code",
   "execution_count": null,
   "id": "7cbad519",
   "metadata": {},
   "outputs": [
    {
     "name": "stdout",
     "output_type": "stream",
     "text": [
      "             Name  Age     city  salary\n",
      "student1    Alice   25  Colombo   50000\n",
      "student2      Bob   30    Kandy   60000\n",
      "student3  Charlie   35    Galle   70000\n",
      "student4    David   40   Jaffna   80000\n",
      "\n"
     ]
    }
   ],
   "source": [
    "# Add new columns to the DataFrame\n",
    "\n",
    "df ['city'] = ['Colombo', 'Kandy', 'Galle', 'Jaffna']  # Add a new column 'city'\n",
    "df ['salary'] = [50000, 60000, 70000, 80000]  # Add another new column 'salary'\n",
    "print(df)  # Print the DataFrame with the new column\n",
    "print(\"\")"
   ]
  },
  {
   "cell_type": "code",
   "execution_count": 12,
   "id": "16aff1ec",
   "metadata": {},
   "outputs": [
    {
     "name": "stdout",
     "output_type": "stream",
     "text": [
      "             Name  Age    city  salary\n",
      "student3  Charlie   35   Galle   70000\n",
      "student4    David   40  Jaffna   80000\n",
      "<class 'pandas.core.frame.DataFrame'>\n"
     ]
    }
   ],
   "source": [
    "# Filtering rows in dataframe\n",
    "filtered_df = df[df['Age'] > 30]  # Filter rows where 'Age' is greater than 30\n",
    "print(filtered_df)  # Print the filtered DataFrame\n",
    "print(type(filtered_df))  # Assuming temp is a function defined elsewhere"
   ]
  },
  {
   "cell_type": "code",
   "execution_count": null,
   "id": "96b0ee4e",
   "metadata": {},
   "outputs": [
    {
     "name": "stdout",
     "output_type": "stream",
     "text": [
      "         Name  Age   city  salary\n",
      "student2  Bob   30  Kandy   60000\n"
     ]
    }
   ],
   "source": [
    "filtered_df2 = df[(df['Age'] > 28) & (df['salary'] < 65000)]  # Filter rows where 'Age' is greater than 28 and 'salary' is less than 65000\n",
    "print(filtered_df2)\n",
    "\n"
   ]
  },
  {
   "cell_type": "code",
   "execution_count": 1,
   "id": "ae29ebdc",
   "metadata": {},
   "outputs": [
    {
     "name": "stdout",
     "output_type": "stream",
     "text": [
      "   student_ID      Name  assignment_1  assignment_2  final_examm\n",
      "0        1001    Ayesha            78            85           90\n",
      "1        1002     Nimal            65            70           72\n",
      "2        1003  Tharindu            88            90           95\n",
      "3        1004     Kasun            50            45           60\n",
      "4        1005  Shashini            80            75           85\n",
      "\n",
      "       Name  final_examm\n",
      "0    Ayesha           90\n",
      "2  Tharindu           95\n",
      "4  Shashini           85\n",
      "\n",
      "   student_ID      Name  assignment_1  assignment_2  final_examm    Average\n",
      "0        1001    Ayesha            78            85           90  84.333333\n",
      "1        1002     Nimal            65            70           72  69.000000\n",
      "2        1003  Tharindu            88            90           95  91.000000\n",
      "3        1004     Kasun            50            45           60  51.666667\n",
      "4        1005  Shashini            80            75           85  80.000000\n",
      "\n",
      "       Name  Average\n",
      "2  Tharindu     91.0\n",
      "\n",
      "361\n"
     ]
    }
   ],
   "source": [
    "import pandas as pd\n",
    "\n",
    "student_records = {\n",
    "    'student_ID':[1001,1002,1003,1004,1005],\n",
    "    'Name': [\"Ayesha\", \"Nimal\", \"Tharindu\", \"Kasun\", \"Shashini\"],\n",
    "    'assignment_1': [78, 65, 88, 50, 80],\n",
    "    'assignment_2': [85, 70, 90, 45, 75],\n",
    "    'final_examm': [90, 72, 95, 60, 85]\n",
    "}\n",
    "\n",
    "df = pd.DataFrame(student_records)\n",
    "print(df)\n",
    "print(\"\")\n",
    "\n",
    "high_marks = df[df['final_examm'] > 80]\n",
    "print(high_marks[['Name', 'final_examm']])\n",
    "print(\"\")\n",
    "\n",
    "df['Average'] = (df['assignment_1'] + df['assignment_2'] + df['final_examm']) / 3\n",
    "print(df)\n",
    "print(\"\")\n",
    "\n",
    "average_max = df['Average'].max()\n",
    "average_max_df = df[df['Average'] == average_max]\n",
    "print(average_max_df[['Name', 'Average']])\n",
    "print(\"\")\n",
    "\n",
    "assignment_1_total = df['assignment_1'].sum()\n",
    "print(assignment_1_total)\n"
   ]
  },
  {
   "cell_type": "code",
   "execution_count": 50,
   "id": "73774311",
   "metadata": {},
   "outputs": [
    {
     "name": "stdout",
     "output_type": "stream",
     "text": [
      "          Name  Age Occupation\n",
      "0     John Doe   30   Engineer\n",
      "1   Jane Smith   25    Teacher\n",
      "2  Bob Johnson   40     Doctor\n",
      "3  Alice Brown   35     Artist\n"
     ]
    }
   ],
   "source": [
    "import pandas as pd\n",
    "\n",
    "df = pd.read_csv(\"file_handling/test.csv\")\n",
    "print(df)"
   ]
  }
 ],
 "metadata": {
  "kernelspec": {
   "display_name": "Python 3",
   "language": "python",
   "name": "python3"
  },
  "language_info": {
   "codemirror_mode": {
    "name": "ipython",
    "version": 3
   },
   "file_extension": ".py",
   "mimetype": "text/x-python",
   "name": "python",
   "nbconvert_exporter": "python",
   "pygments_lexer": "ipython3",
   "version": "3.13.3"
  }
 },
 "nbformat": 4,
 "nbformat_minor": 5
}
