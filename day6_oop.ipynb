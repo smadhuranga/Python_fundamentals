{
 "cells": [
  {
   "cell_type": "code",
   "execution_count": null,
   "id": "f3d07dfa",
   "metadata": {},
   "outputs": [
    {
     "name": "stdout",
     "output_type": "stream",
     "text": [
      "Parrot is colorful\n"
     ]
    }
   ],
   "source": [
    "class Animal:\n",
    "    def speak(self):\n",
    "        print(\"Animal speaks\")\n",
    "class Parrot(Animal):\n",
    "    def display(self):\n",
    "        print(\"Parrot is colorful\")\n",
    "\n",
    "Parrot_1 = Parrot()\n",
    "Parrot_1.speak()"
   ]
  },
  {
   "cell_type": "code",
   "execution_count": 5,
   "id": "f9c56f01",
   "metadata": {},
   "outputs": [
    {
     "name": "stdout",
     "output_type": "stream",
     "text": [
      "Parrot is spleaking\n"
     ]
    }
   ],
   "source": [
    "class Animal:\n",
    "    def speak(self):\n",
    "        print(\"Animal speaks\")\n",
    "class Parrot(Animal):\n",
    "    def speak(self):                     # Overriding the speak method\n",
    "        print(\"Parrot is spleaking\")\n",
    "\n",
    "Parrot_1 = Parrot()\n",
    "Parrot_1.speak()\n"
   ]
  },
  {
   "cell_type": "code",
   "execution_count": 1,
   "id": "c66e27b9",
   "metadata": {},
   "outputs": [
    {
     "name": "stdout",
     "output_type": "stream",
     "text": [
      "Parrot is colorful\n"
     ]
    }
   ],
   "source": [
    "class Animal:\n",
    "    def speak(self):\n",
    "        print(\"Animal speaks\")\n",
    "class Parrot(Animal):\n",
    "    def speak(self,desc):            # Overloading the speak method\n",
    "        print(\"Parrot is colorful\")\n",
    "\n",
    "Parrot_1 = Parrot()\n",
    "Parrot_1.speak(\"ddddd\")  # Calling the speak method with an argument"
   ]
  },
  {
   "cell_type": "code",
   "execution_count": null,
   "id": "57560a06",
   "metadata": {},
   "outputs": [
    {
     "name": "stdout",
     "output_type": "stream",
     "text": [
      "Parrot Bolaa is colorful\n"
     ]
    }
   ],
   "source": [
    "class Animal:\n",
    "    def __init__(self,name): # Constructor to initialize the name\n",
    "        self.name = name\n",
    "class Parrot(Animal):\n",
    "    def speak(self):\n",
    "        print(f\"Parrot {self.name} is colorful\")\n",
    "\n",
    "Parrot_1 = Parrot(\"Bolaa\") # Creating an instance of Parrot with a name\n",
    "Parrot_1.speak()\n"
   ]
  },
  {
   "cell_type": "code",
   "execution_count": 17,
   "id": "d8a37f40",
   "metadata": {},
   "outputs": [
    {
     "name": "stdout",
     "output_type": "stream",
     "text": [
      " sudu ballaa is colorful\n"
     ]
    }
   ],
   "source": [
    "class Animal:\n",
    "    def __init__(self,name): # Constructor to initialize the name\n",
    "        self.name = name\n",
    "class Parrot(Animal):\n",
    "    def __init__(self, name , color):\n",
    "        self.color = color\n",
    "        super().__init__(name) # Calling the constructor of the parent class\n",
    "    def speak(self):\n",
    "        print(f\" {self.color} {self.name} is colorful\")\n",
    "\n",
    "Parrot_1 = Parrot(\"ballaa\" , \"sudu\") # Creating an instance of Parrot with a name and color\n",
    "Parrot_1.speak()"
   ]
  },
  {
   "cell_type": "code",
   "execution_count": 29,
   "id": "cf8854cf",
   "metadata": {},
   "outputs": [
    {
     "name": "stdout",
     "output_type": "stream",
     "text": [
      "Name: Thadiya, Salary: 70000\n",
      "Department: HR \n"
     ]
    }
   ],
   "source": [
    "class Employee:\n",
    "    def __init__(self, name, salary):\n",
    "        self.name = name\n",
    "        self.salary = salary\n",
    "\n",
    "    def display_info(self):\n",
    "        print(f\"Name: {self.name}, Salary: {self.salary}\")\n",
    "\n",
    "class Manager(Employee):\n",
    "    def __init__(self, name, salary, department):\n",
    "        super().__init__(name, salary)  \n",
    "        self.department = department\n",
    "\n",
    "    def display_info(self): \n",
    "        super().display_info()\n",
    "        print(f\"Department: {self.department} \")\n",
    "\n",
    "\n",
    "Manager_1 = Manager(\"Thadiya\", 70000, \"HR\")\n",
    "Manager_1.display_info()"
   ]
  },
  {
   "cell_type": "code",
   "execution_count": 4,
   "id": "358da661",
   "metadata": {},
   "outputs": [
    {
     "ename": "AttributeError",
     "evalue": "'Employee' object has no attribute '__name'",
     "output_type": "error",
     "traceback": [
      "\u001b[31m---------------------------------------------------------------------------\u001b[39m",
      "\u001b[31mAttributeError\u001b[39m                            Traceback (most recent call last)",
      "\u001b[36mCell\u001b[39m\u001b[36m \u001b[39m\u001b[32mIn[4]\u001b[39m\u001b[32m, line 11\u001b[39m\n\u001b[32m      8\u001b[39m         \u001b[38;5;28mprint\u001b[39m(\u001b[33mf\u001b[39m\u001b[33m\"\u001b[39m\u001b[33mName: \u001b[39m\u001b[38;5;132;01m{\u001b[39;00m\u001b[38;5;28mself\u001b[39m.__name\u001b[38;5;132;01m}\u001b[39;00m\u001b[33m\"\u001b[39m) \u001b[38;5;66;03m# Accessing private attribute from another class no error \u001b[39;00m\n\u001b[32m     10\u001b[39m e  = Employee()\n\u001b[32m---> \u001b[39m\u001b[32m11\u001b[39m \u001b[38;5;28mprint\u001b[39m(\u001b[43me\u001b[49m\u001b[43m.\u001b[49m\u001b[43m__name\u001b[49m)  \u001b[38;5;66;03m# This will raise an error because __name is private\u001b[39;00m\n",
      "\u001b[31mAttributeError\u001b[39m: 'Employee' object has no attribute '__name'"
     ]
    }
   ],
   "source": [
    "# Encapsulation example\n",
    "class Person:\n",
    "    def __init__(self):\n",
    "        self._name = \"supun\"  # Private attribute\n",
    "class Employee(Person):\n",
    "    def display(self):\n",
    "        super().__init__()\n",
    "        print(f\"Name: {self.__name}\") # Accessing private attribute from another class no error \n",
    "\n",
    "e  = Employee()\n",
    "print(e.__name)  # This will raise an error because __name is private"
   ]
  },
  {
   "cell_type": "code",
   "execution_count": null,
   "id": "d9ee618b",
   "metadata": {},
   "outputs": [
    {
     "name": "stdout",
     "output_type": "stream",
     "text": [
      "supun\n"
     ]
    },
    {
     "ename": "AttributeError",
     "evalue": "'Person' object has no attribute '__name'",
     "output_type": "error",
     "traceback": [
      "\u001b[31m---------------------------------------------------------------------------\u001b[39m",
      "\u001b[31mAttributeError\u001b[39m                            Traceback (most recent call last)",
      "\u001b[36mCell\u001b[39m\u001b[36m \u001b[39m\u001b[32mIn[5]\u001b[39m\u001b[32m, line 8\u001b[39m\n\u001b[32m      6\u001b[39m p = Person()\n\u001b[32m      7\u001b[39m \u001b[38;5;28mprint\u001b[39m(p.get_name())  \u001b[38;5;66;03m# Accessing protected attribute using a method\u001b[39;00m\n\u001b[32m----> \u001b[39m\u001b[32m8\u001b[39m \u001b[38;5;28mprint\u001b[39m(\u001b[43mp\u001b[49m\u001b[43m.\u001b[49m\u001b[43m__name\u001b[49m)  \u001b[38;5;66;03m# This will raise an error because __name is private\u001b[39;00m\n",
      "\u001b[31mAttributeError\u001b[39m: 'Person' object has no attribute '__name'"
     ]
    }
   ],
   "source": [
    "# Encapsulation example with getter method privete attribute\n",
    "class Person:\n",
    "    def __init__(self):\n",
    "        self.__name = \"supun\"  # Protected attribute\n",
    "    def get_name(self):\n",
    "        return self.__name\n",
    "p = Person()\n",
    "print(p.get_name())  # Accessing protected attribute using a method\n",
    "print(p.__name)  # This will raise an error because __name is private\n",
    "    "
   ]
  },
  {
   "cell_type": "code",
   "execution_count": 22,
   "id": "a9f4a322",
   "metadata": {},
   "outputs": [
    {
     "name": "stdout",
     "output_type": "stream",
     "text": [
      "Name : bola, Balance: 0.0\n",
      "Deposit amount must be positive\n",
      "Deposited: 3000, New Balance: 3000.0\n",
      "Insufficient balance or invalid withdrawal amount\n",
      "Withdrawn: 300, New Balance: 2700.0\n",
      "Name : bola, Balance: 2700.0\n"
     ]
    }
   ],
   "source": [
    "class Bankaccount :\n",
    "    def __init__(self, account_number, Owner_name):\n",
    "        self.__account_number = account_number\n",
    "        self.__balance = 0.0 \n",
    "        self.__Owner_name = Owner_name\n",
    "\n",
    "    def display_account(self):\n",
    "        print(f\"Name : {self.__Owner_name}, Balance: {self.__balance}\")\n",
    "\n",
    "    def deposit(self, amount):\n",
    "        if self.__validate_amount(amount):\n",
    "            self.__balance += amount\n",
    "            print(f\"Deposited: {amount}, New Balance: {self.__balance}\")\n",
    "        else:\n",
    "            print(\"Deposit amount must be positive\")\n",
    "\n",
    "\n",
    "    def withdraw(self, amount):\n",
    "        if self.__validate_amount(amount) and amount <= self.__balance:\n",
    "            self.__balance -= amount\n",
    "            print(f\"Withdrawn: {amount}, New Balance: {self.__balance}\")\n",
    "        else:\n",
    "            print(\"Insufficient balance or invalid withdrawal amount\")\n",
    "\n",
    "    \n",
    "    def get_balance(self):\n",
    "        return self.__balance\n",
    "    \n",
    "    def __validate_amount(self, amount):\n",
    "            return amount > 0\n",
    "    \n",
    "Bankaccount_1 = Bankaccount(123 , \"bola\")\n",
    "\n",
    "Bankaccount_1.display_account()\n",
    "\n",
    "Bankaccount_1.deposit(-3000)\n",
    "Bankaccount_1.deposit(3000)\n",
    "Bankaccount_1.withdraw(-300)\n",
    "Bankaccount_1.withdraw(300)\n",
    "Bankaccount_1.get_balance()\n",
    "Bankaccount_1.display_account()\n",
    "   \n",
    "\n",
    "   \n"
   ]
  }
 ],
 "metadata": {
  "kernelspec": {
   "display_name": "Python 3",
   "language": "python",
   "name": "python3"
  },
  "language_info": {
   "codemirror_mode": {
    "name": "ipython",
    "version": 3
   },
   "file_extension": ".py",
   "mimetype": "text/x-python",
   "name": "python",
   "nbconvert_exporter": "python",
   "pygments_lexer": "ipython3",
   "version": "3.13.3"
  }
 },
 "nbformat": 4,
 "nbformat_minor": 5
}
