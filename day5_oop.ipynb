{
 "cells": [
  {
   "cell_type": "code",
   "execution_count": 2,
   "id": "9ae66b99",
   "metadata": {},
   "outputs": [
    {
     "name": "stdout",
     "output_type": "stream",
     "text": [
      "\n",
      "0\n"
     ]
    }
   ],
   "source": [
    "# create class and object initialize\n",
    "class student : \n",
    "    name = \"\"\n",
    "    age = 0\n",
    "\n",
    "student1 = student()\n",
    "print(student1.name)\n",
    "print(student1.age)"
   ]
  },
  {
   "cell_type": "code",
   "execution_count": 11,
   "id": "8ce32e8f",
   "metadata": {},
   "outputs": [
    {
     "name": "stdout",
     "output_type": "stream",
     "text": [
      "car has 4 wheels\n",
      "car is driving to beach on 4 wheels\n"
     ]
    }
   ],
   "source": [
    "# python 'self' keyword\n",
    "class car:\n",
    "    wheels = 4\n",
    "    \n",
    "\n",
    "\n",
    "    def disply_info(self):\n",
    "        print(f\"car has {self.wheels} wheels\")\n",
    "\n",
    "    def drive_to(self, destination):\n",
    "        self.destination = destination\n",
    "        print(f\"car is driving to {destination} on {self.wheels} wheels\")\n",
    "\n",
    "car1 = car()\n",
    "car1.disply_info()\n",
    "car1.drive_to(\"beach\")"
   ]
  },
  {
   "cell_type": "code",
   "execution_count": null,
   "id": "e4f9aad5",
   "metadata": {},
   "outputs": [],
   "source": [
    "# python __init__ its called constructor\n",
    "# it is used to initialize the object attributes\n",
    "# it is called when the object is created\n",
    "# it is a special method\n",
    "# it is used to set the initial state of the object\n",
    "\n",
    "class car:\n",
    "    wheels = 4\n",
    "\n",
    "    def __init__(self, color, model):\n",
    "        self.color = color\n",
    "        self.model = model\n",
    "\n",
    "car1 = car(\"red\", \"toyota\")"
   ]
  }
 ],
 "metadata": {
  "kernelspec": {
   "display_name": "Python 3",
   "language": "python",
   "name": "python3"
  },
  "language_info": {
   "codemirror_mode": {
    "name": "ipython",
    "version": 3
   },
   "file_extension": ".py",
   "mimetype": "text/x-python",
   "name": "python",
   "nbconvert_exporter": "python",
   "pygments_lexer": "ipython3",
   "version": "3.13.3"
  }
 },
 "nbformat": 4,
 "nbformat_minor": 5
}
