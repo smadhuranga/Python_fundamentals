{
 "cells": [
  {
   "cell_type": "code",
   "execution_count": 1,
   "id": "0ade4fb8",
   "metadata": {},
   "outputs": [
    {
     "name": "stdout",
     "output_type": "stream",
     "text": [
      "8\n"
     ]
    }
   ],
   "source": [
    "# function\n",
    "\n",
    "def add_numbers(a, b):\n",
    "    \"\"\"\n",
    "    Adds two numbers together.\n",
    "\n",
    "    Parameters:\n",
    "    a (int or float): The first number.\n",
    "    b (int or float): The second number.\n",
    "\n",
    "    Returns:\n",
    "    int or float: The sum of the two numbers.\n",
    "    \"\"\"\n",
    "    return a + b\n",
    "\n",
    "# Example usage\n",
    "print(add_numbers(5, 3))  # Output: 8\n"
   ]
  },
  {
   "cell_type": "code",
   "execution_count": null,
   "id": "635577b5",
   "metadata": {},
   "outputs": [],
   "source": [
    "def count_even_numbers(my_list):\n",
    "\n",
    "    even_number_count = 0\n",
    "\n",
    "    for i in my_list:\n",
    "        if i % 2 == 0:\n",
    "            count += 1\n",
    "    return count\n",
    "\n",
    "   \n",
    "\n",
    "list = [12,5,6,2,4,8,9,1]\n",
    "print(count_even_numbers(list))\n",
    "\n",
    "\n",
    "   \n",
    "\n",
    "\n",
    "\n",
    "#    return len([num for num in my_list if num % 2 == 0])\n",
    "\n",
    "# print(count_even_numbers([1, 2, 3, 4, 5, 6]))  \n",
    "\n"
   ]
  },
  {
   "cell_type": "code",
   "execution_count": 3,
   "id": "1c3d3f2e",
   "metadata": {},
   "outputs": [
    {
     "name": "stdout",
     "output_type": "stream",
     "text": [
      "22\n"
     ]
    }
   ],
   "source": [
    "def find_max(list):\n",
    " \n",
    "    max_num = list[0]\n",
    "    for num in list:\n",
    "        if num > max_num:\n",
    "            max_num = num\n",
    "    return max_num\n",
    "\n",
    "\n",
    "list = [1,2,3,5,6,7,9,22]\n",
    "\n",
    "print(find_max(list))"
   ]
  },
  {
   "cell_type": "code",
   "execution_count": 20,
   "id": "d1fa2274",
   "metadata": {},
   "outputs": [
    {
     "name": "stdout",
     "output_type": "stream",
     "text": [
      "[1, 2, 3, 4, 5, 6, 9, 20, 8]\n"
     ]
    }
   ],
   "source": [
    "# without return set and preserving order\n",
    "\n",
    "def remove_duplicates(my_list):\n",
    "    new_set = set()\n",
    "    list1 = []\n",
    "    for item in my_list:\n",
    "        if item not in new_set:\n",
    "            new_set.add(item)\n",
    "            list1.append(item)      \n",
    "    return list1\n",
    "\n",
    "list = [1, 2, 3, 4, 5, 1, 2, 3, 6 , 9 , 20, 5 ,  8 , 8]\n",
    "\n",
    "print(remove_duplicates(list))\n",
    "\n"
   ]
  },
  {
   "cell_type": "code",
   "execution_count": 24,
   "id": "334a41f4",
   "metadata": {},
   "outputs": [
    {
     "name": "stdout",
     "output_type": "stream",
     "text": [
      "120\n"
     ]
    }
   ],
   "source": [
    "def factorial(n):\n",
    "    result = 1\n",
    "    if n == 0  :\n",
    "           print(\"please inter another number\")\n",
    "           return result\n",
    "\n",
    "    else:\n",
    "     for i in range(1, n + 1):\n",
    "        result *= i\n",
    "           \n",
    "    return result\n",
    "    \n",
    "   \n",
    "print(factorial(5))"
   ]
  },
  {
   "cell_type": "code",
   "execution_count": null,
   "id": "5fc2a621",
   "metadata": {},
   "outputs": [],
   "source": [
    "# position argument and keyword argument\n",
    "def greet(name, greeting=\"Hello\"):\n",
    "    \"\"\"\n",
    "    Greets a person with a specified greeting.\n",
    "\n",
    "    Parameters:\n",
    "    name (str): The name of the person.\n",
    "    greeting (str): The greeting to use. Defaults to \"Hello\".\n",
    "\n",
    "    Returns:\n",
    "    str: A greeting message.\n",
    "    \"\"\"\n",
    "    return f\"{greeting}, {name}!\"\n",
    "# Example usage\n",
    "print(greet(\"Alice\"))  # Output: Hello, Alice!\n",
    "print(greet(\"Bob\", \"Hi\"))  # Output: Hi, Bob!"
   ]
  },
  {
   "cell_type": "code",
   "execution_count": null,
   "id": "d66e5ea1",
   "metadata": {},
   "outputs": [],
   "source": [
    "# default arguments\n",
    "\n",
    "def add_numbers(a,b = 8):\n",
    "    \"\"\"\n",
    "    Adds two numbers together, with a default value for b.\n",
    "\n",
    "    Parameters:\n",
    "    a (int or float): The first number.\n",
    "    b (int or float, optional): The second number, default is 8.\n",
    "\n",
    "    Returns:\n",
    "    int or float: The sum of the two numbers.\n",
    "    \"\"\"\n",
    "    return a + b\n",
    "# Example usage with default argument\n",
    "print(add_numbers(5))  # Output: 13\n",
    "# Example usage with both arguments\n",
    "print(add_numbers(5, 3))  # Output: 8"
   ]
  },
  {
   "cell_type": "code",
   "execution_count": 26,
   "id": "4a121bf6",
   "metadata": {},
   "outputs": [
    {
     "name": "stdout",
     "output_type": "stream",
     "text": [
      "9\n",
      "27\n"
     ]
    }
   ],
   "source": [
    "def exponent(base, exp=2):\n",
    "    result = base ** exp\n",
    "\n",
    "    return result\n",
    "\n",
    "print(exponent(3))  \n",
    "print(exponent(3, 3)) "
   ]
  },
  {
   "cell_type": "code",
   "execution_count": 27,
   "id": "d4ab2c22",
   "metadata": {},
   "outputs": [
    {
     "name": "stdout",
     "output_type": "stream",
     "text": [
      "Number 1: 10, Number 2: 20, Number 3: 30\n",
      "Number 1: 10, Number 2: 20, Number 3: 30\n",
      "Number 1: 10, Number 2: 20, Number 3: 30\n"
     ]
    }
   ],
   "source": [
    "# Keyword arguments\n",
    "def disple_numbers(num1, num2, num3):\n",
    "    \"\"\"\n",
    "    Displays three numbers.\n",
    "\n",
    "    Parameters:\n",
    "    num1 (int): The first number.\n",
    "    num2 (int): The second number.\n",
    "    num3 (int): The third number.\n",
    "    \"\"\"\n",
    "    print(f\"Number 1: {num1}, Number 2: {num2}, Number 3: {num3}\")\n",
    "# Example usage with keyword arguments\n",
    "disple_numbers(num1=10, num2=20, num3=30)\n",
    "# Example usage with positional arguments\n",
    "disple_numbers(10, 20, 30)\n",
    "disple_numbers( num2=20, num3=30 ,num1=10)  # Mixing positional and keyword arguments"
   ]
  },
  {
   "cell_type": "code",
   "execution_count": null,
   "id": "91cbde0a",
   "metadata": {},
   "outputs": [
    {
     "name": "stdout",
     "output_type": "stream",
     "text": [
      "9000.0\n",
      "12900.0\n",
      "8700.0\n",
      "9000.0\n",
      "51600.0\n",
      "8700.0\n",
      "8500.0\n",
      "10800.0\n"
     ]
    }
   ],
   "source": [
    "def employee_salary (base_salary , bonus = 0 , tax = 0.1):\n",
    "    \n",
    "    total_salary = base_salary + bonus\n",
    "    total_salary -= total_salary * tax\n",
    "    return total_salary\n",
    "\n",
    "print(employee_salary(base_salary = 10000))\n",
    "print(employee_salary(base_salary = 10000 , bonus = 5000 , tax = 0.14))\n",
    "print(employee_salary(base_salary = 10000 , tax = 0.13))\n",
    "\n",
    "\n",
    "print(employee_salary( 10000))\n",
    "print(employee_salary(10000 ,50000 , 0.14))\n",
    "print(employee_salary(10000 , 0,0.13))\n",
    "\n",
    "#mix\n",
    "print(employee_salary(10000, tax = 0.15))  # Using keyword argument for tax\n",
    "print(employee_salary(10000, bonus = 2000))  # Using keyword argument for bonus\n",
    "\n"
   ]
  },
  {
   "cell_type": "code",
   "execution_count": 11,
   "id": "7b65aade",
   "metadata": {},
   "outputs": [
    {
     "name": "stdout",
     "output_type": "stream",
     "text": [
      "<class 'tuple'>\n",
      "(1, 2)\n",
      "(1, 2)\n",
      "<class 'tuple'>\n",
      "(1, 2)\n",
      "(1, 2)\n",
      "None\n",
      "<class 'tuple'>\n",
      "(1, 2, 3)\n",
      "(1, 2, 3)\n",
      "(1, 2, 3)\n",
      "None\n",
      "<class 'tuple'>\n",
      "(1, 2, 3, 4, 5)\n",
      "(1, 2, 3, 4, 5)\n",
      "(1, 2, 3, 4, 5)\n",
      "(1, 2, 3, 4, 5)\n",
      "(1, 2, 3, 4, 5)\n",
      "None\n"
     ]
    }
   ],
   "source": [
    "# Arbitrary positional arguments\n",
    "def sum_numbers(*args):\n",
    "    \"\"\"\n",
    "    Sums an arbitrary number of numbers.\n",
    "\n",
    "    Parameters:\n",
    "    *args (int or float): The numbers to sum.\n",
    "\n",
    "    Returns:\n",
    "    int or float: The sum of the numbers.\n",
    "    \"\"\"\n",
    "    print(type(args))  # This will show that args is a tuple\n",
    "    for arg in args:\n",
    "        print(args)\n",
    "       \n",
    "\n",
    "        \n",
    "\n",
    "# Example usage\n",
    "sum_numbers(1, 2)\n",
    "print(sum_numbers(1, 2))  # Output: 3\n",
    "print(sum_numbers(1, 2, 3))  # Output: 6\n",
    "print(sum_numbers(1, 2, 3, 4, 5))\n"
   ]
  },
  {
   "cell_type": "code",
   "execution_count": 13,
   "id": "2020125e",
   "metadata": {},
   "outputs": [
    {
     "name": "stdout",
     "output_type": "stream",
     "text": [
      "336\n",
      "1\n"
     ]
    }
   ],
   "source": [
    "def multiply_numbers(*args):\n",
    "\n",
    "    product = 1\n",
    "    for num in args:\n",
    "        product *= num\n",
    "    return product\n",
    "\n",
    "print(multiply_numbers(2,4,6,1,7))\n",
    "print(multiply_numbers())\n",
    "\n"
   ]
  },
  {
   "cell_type": "code",
   "execution_count": null,
   "id": "a5a7bd4c",
   "metadata": {},
   "outputs": [
    {
     "name": "stdout",
     "output_type": "stream",
     "text": [
      "<class 'dict'>\n",
      "{'name': 'Alice', 'age': 30, 'city': 'New York'}\n",
      "None\n",
      "name\n",
      "age\n",
      "city\n",
      "Alice\n",
      "30\n",
      "New York\n",
      "key: name value: Alice\n",
      "key: age value: 30\n",
      "key: city value: New York\n"
     ]
    }
   ],
   "source": [
    "# Arbitrary keyword arguments\n",
    "def display_info(**kwargs):\n",
    "    \"\"\"\n",
    "    Displays information about a person.\n",
    "\n",
    "    Parameters:\n",
    "    **kwargs: Arbitrary keyword arguments representing the person's information.\n",
    "\n",
    "    Returns:\n",
    "    str: A formatted string with the person's information.\n",
    "\n",
    "    Types:\n",
    "    - kwargs (dict): A dictionary of keyword arguments where keys are attribute names and values are values.\n",
    "    - Returns (str): A formatted string summarizing the person's information.\n",
    "    \"\"\"\n",
    "    print(type(kwargs))  # This will show that kwargs is a dictionary\n",
    "    print(kwargs)  # This will print the dictionary of keyword arguments\n",
    "    \n",
    "    \n",
    "    \n",
    "print(display_info(name=\"Alice\", age=30, city=\"New York\"))\n",
    "\n",
    "\n",
    "\n",
    "\n",
    "dict = {    \"name\": \"Alice\",\n",
    "    \"age\": 30,\n",
    "    \"city\": \"New York\"\n",
    "}\n",
    "for key in dict.keys():\n",
    "    print(key)\n",
    "\n",
    "for value in dict.values():\n",
    "    print(value)\n",
    "\n",
    "for key, value in dict.items():\n",
    "    print(\"key:\", key, \"value:\", value)"
   ]
  },
  {
   "cell_type": "code",
   "execution_count": 30,
   "id": "66d39bb7",
   "metadata": {},
   "outputs": [
    {
     "name": "stdout",
     "output_type": "stream",
     "text": [
      "<class 'dict'>\n",
      "{'name': 'Alice', 'age': 30, 'city': 'New York'}\n",
      "name Alice\n",
      "age 30\n",
      "city New York\n"
     ]
    }
   ],
   "source": [
    "def display_info(**kwargs):\n",
    "    print(type(kwargs)) \n",
    "    print(kwargs) \n",
    "    \n",
    "    for key,value in kwargs.items():\n",
    "        print(key , value)\n",
    "     \n",
    "    \n",
    "\n",
    "display_info(name=\"Alice\", age=30, city=\"New York\")\n",
    "\n"
   ]
  },
  {
   "cell_type": "code",
   "execution_count": null,
   "id": "b68001a9",
   "metadata": {},
   "outputs": [
    {
     "name": "stdout",
     "output_type": "stream",
     "text": [
      "ST01 : Dlsara\n",
      "ST02 : Lahiru\n",
      "ST03 : Shan\n",
      "ST04 : Kizer\n",
      "ST05 : Chathura\n"
     ]
    }
   ],
   "source": [
    "\n",
    "def add_students(**kwargs):\n",
    "    students = {}\n",
    "    students.update(kwargs)\n",
    "    return students\n",
    "\n",
    "def display_students(students):\n",
    "    for key , value in students.items():\n",
    "        print(key ,\":\", value)\n",
    "\n",
    "\n",
    "students = add_students(ST01 = \"Dlsara\",\n",
    "             ST02 = \"Lahiru\",\n",
    "             ST03 = \"Shan\",\n",
    "             ST04 = \"Kizer\",\n",
    "             ST05 = \"Chathura\"\n",
    ")\n",
    "display_students(students)\n",
    "\n",
    "\n",
    "\n",
    "\n"
   ]
  },
  {
   "cell_type": "code",
   "execution_count": null,
   "id": "048258f7",
   "metadata": {},
   "outputs": [],
   "source": [
    "# python built-in functions\n",
    "\n",
    "print(len([1, 2, 3, 4, 5]))  # Output: 5\n",
    "print(abs(-5))  # Output: 5\n",
    "print(max([1, 2, 3, 4, 5]))  #\n",
    "# Output: 5\n",
    "print(min([1, 2, 3, 4, 5]))  ## Output: 1\n",
    "print(sum([1, 2, 3, 4, 5]))  # Output: 15\n",
    "print(sorted([5, 3, 1, 4, 2]))  # Output: [1, 2, 3, 4, 5]\n",
    "print(reversed([1, 2, 3, 4, 5]))  # Output: [5, 4, 3, 2, 1]\n",
    "print(list(reversed([1, 2, 3, 4, 5])))  # Convert reversed object to list\n",
    "print(tuple([1, 2, 3, 4, 5]))  # \n"
   ]
  },
  {
   "cell_type": "code",
   "execution_count": 2,
   "id": "b1637eb4",
   "metadata": {},
   "outputs": [
    {
     "name": "stdout",
     "output_type": "stream",
     "text": [
      "<class 'map'>\n",
      "[1, 4, 9, 16, 25]\n"
     ]
    }
   ],
   "source": [
    "\n",
    "def find_square(x):\n",
    "    return x ** 2\n",
    "\n",
    "numbers = [1, 2, 3, 4, 5]\n",
    "\n",
    "square_value = map(find_square, numbers)\n",
    "\n",
    "print(type(square_value))\n",
    "print(list(square_value))  \n",
    "\n",
    "    "
   ]
  },
  {
   "cell_type": "code",
   "execution_count": null,
   "id": "62a2cfaa",
   "metadata": {},
   "outputs": [
    {
     "name": "stdout",
     "output_type": "stream",
     "text": [
      "[32.0, 68.0, 98.6, 212.0, 14.0]\n"
     ]
    }
   ],
   "source": [
    "def celsius_to_fahrenheit(celsius):\n",
    "    return (celsius * 9/5) + 32\n",
    "\n",
    "def get_fahrenheit_values (celsius_values):\n",
    "    return  list(map(celsius_to_fahrenheit, celsius_values)) \n",
    "\n",
    "celsius_values = [0, 20, 37, 100, -10]\n",
    "\n",
    "print(get_fahrenheit_values(celsius_values))  \n"
   ]
  },
  {
   "cell_type": "code",
   "execution_count": 1,
   "id": "f3539c11",
   "metadata": {},
   "outputs": [
    {
     "name": "stdout",
     "output_type": "stream",
     "text": [
      "[2, 4, 6, 8, 10]\n"
     ]
    }
   ],
   "source": [
    "list1 = [1,2,3,4,5,6,7,8,9,10]\n",
    "\n",
    "def filter_num(number):\n",
    "    return number %2 == 0\n",
    "\n",
    "print(list(filter(filter_num,list1)))"
   ]
  },
  {
   "cell_type": "code",
   "execution_count": 3,
   "id": "79909644",
   "metadata": {},
   "outputs": [
    {
     "name": "stdout",
     "output_type": "stream",
     "text": [
      "9\n",
      "11\n"
     ]
    }
   ],
   "source": [
    "# Lambda function example\n",
    "\n",
    "add = lambda x, y : x + y\n",
    "\n",
    "result = add(4,5)\n",
    "\n",
    "print(result)\n",
    "\n",
    "(lambda x, y : x + y)(4, 5)  # Output: 9\n",
    "\n",
    "print((lambda x, y : x + y)(6, 5) )"
   ]
  },
  {
   "cell_type": "code",
   "execution_count": 4,
   "id": "5553c94f",
   "metadata": {},
   "outputs": [
    {
     "name": "stdout",
     "output_type": "stream",
     "text": [
      "[2, 4, 6, 8, 10, 12, 14, 16, 18, 20]\n"
     ]
    }
   ],
   "source": [
    "list_1 = [1, 2, 3, 4, 5, 6, 7, 8, 9, 10]\n",
    "double_numbers = list(map(lambda x: x * 2, list_1))\n",
    "print(double_numbers)  "
   ]
  },
  {
   "cell_type": "code",
   "execution_count": null,
   "id": "27dfda8d",
   "metadata": {},
   "outputs": [
    {
     "name": "stdout",
     "output_type": "stream",
     "text": [
      "[12, 18, 22, 16]\n"
     ]
    }
   ],
   "source": [
    "number = [12,18 , 17, 15 , 22, 23 , 16]\n",
    "\n",
    "even_numbers = list(filter(lambda x: x % 2 == 0, number))\n",
    "\n",
    "print(even_numbers)\n"
   ]
  },
  {
   "cell_type": "code",
   "execution_count": null,
   "id": "f5488542",
   "metadata": {},
   "outputs": [
    {
     "name": "stdout",
     "output_type": "stream",
     "text": [
      "8\n"
     ]
    }
   ],
   "source": [
    "\n",
    "print((lambda num_1,num_2 : num_1 if num_1 > num_2 else num_2 )(8,4))"
   ]
  }
 ],
 "metadata": {
  "kernelspec": {
   "display_name": "Python 3",
   "language": "python",
   "name": "python3"
  },
  "language_info": {
   "codemirror_mode": {
    "name": "ipython",
    "version": 3
   },
   "file_extension": ".py",
   "mimetype": "text/x-python",
   "name": "python",
   "nbconvert_exporter": "python",
   "pygments_lexer": "ipython3",
   "version": "3.13.3"
  }
 },
 "nbformat": 4,
 "nbformat_minor": 5
}
