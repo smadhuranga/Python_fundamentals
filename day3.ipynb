{
 "cells": [
  {
   "cell_type": "code",
   "execution_count": 22,
   "id": "60ce1e1a",
   "metadata": {},
   "outputs": [
    {
     "name": "stdout",
     "output_type": "stream",
     "text": [
      "lagest number is : 33222244444444\n"
     ]
    }
   ],
   "source": [
    "num_1 = 165555555\n",
    "num_2 = 21114444\n",
    "num_3 = 33222244444444\n",
    "\n",
    "if num_1 > num_2 and num_1 > num_3:\n",
    "    print(\"lagest num is :\" , num_1)\n",
    "elif num_3 > num_2 :\n",
    "    print(\"lagest number is :\" , num_3)\n",
    "else:\n",
    "    print(\"lagest number is :\",num_2)"
   ]
  },
  {
   "cell_type": "code",
   "execution_count": null,
   "id": "b3132ad6",
   "metadata": {},
   "outputs": [
    {
     "name": "stdout",
     "output_type": "stream",
     "text": [
      "lagest number is : 21114444\n",
      "33222244444444 165555555 21114444\n"
     ]
    }
   ],
   "source": [
    "num_1 = 165555555\n",
    "num_2 = 21114444\n",
    "num_3 = 33222244444444\n",
    "\n",
    "if num_1 > num_2 and num_1 > num_3:\n",
    "    if num_2 > num_3 :\n",
    "        print(num_1 , num_2 , num_3)\n",
    "    else:\n",
    "        print(num_1 , num_3 ,num_2)\n",
    "\n",
    "elif num_2 > num_1 and num_2 > num_3 :\n",
    "\n",
    "    if num_1 > num_3 :\n",
    "        print(num_2,num_1,num_3)\n",
    "    else:\n",
    "        print(num_2,num_3,num_1)\n",
    "else:\n",
    "    \n",
    "    if num_1 > num_2:\n",
    "        print(num_3 , num_1 ,num_2)\n",
    "    else:\n",
    "        print(num_3 , num_2 , num_1)"
   ]
  },
  {
   "cell_type": "code",
   "execution_count": null,
   "id": "3516732e",
   "metadata": {},
   "outputs": [
    {
     "name": "stdout",
     "output_type": "stream",
     "text": [
      "even\n"
     ]
    }
   ],
   "source": [
    "# Ternary operator example\n",
    "\n",
    "x = 10\n",
    "\n",
    "result = \"even\" if x % 2 == 0 else \"odd\"\n",
    "print(result)"
   ]
  },
  {
   "cell_type": "code",
   "execution_count": 45,
   "id": "d496f16d",
   "metadata": {},
   "outputs": [
    {
     "name": "stdout",
     "output_type": "stream",
     "text": [
      "abs : 23\n"
     ]
    }
   ],
   "source": [
    "n = -23\n",
    "\n",
    "absolute_value = n if n >= 0  else -(n)\n",
    "print(\"abs :\",absolute_value)"
   ]
  },
  {
   "cell_type": "code",
   "execution_count": null,
   "id": "06ef6465",
   "metadata": {},
   "outputs": [
    {
     "name": "stdout",
     "output_type": "stream",
     "text": [
      "not one, two or three\n"
     ]
    }
   ],
   "source": [
    "# Structured pattern matching example\n",
    "\n",
    "x = 10\n",
    "match x:\n",
    "    case 1:\n",
    "        print(\"one\")\n",
    "    case 2:\n",
    "        print(\"two\")\n",
    "    case 3:\n",
    "        print(\"three\")\n",
    "    case _:\n",
    "        print(\"not one, two or three\")"
   ]
  },
  {
   "cell_type": "code",
   "execution_count": 6,
   "id": "1bb137bc",
   "metadata": {},
   "outputs": [
    {
     "name": "stdout",
     "output_type": "stream",
     "text": [
      "Wednesday\n"
     ]
    }
   ],
   "source": [
    "day = int(input(\"Enter number\"))\n",
    "\n",
    "match day:\n",
    "    case 1:\n",
    "        print(\"Monday\")\n",
    "    case 2:\n",
    "        print(\"Tuesday\")\n",
    "    case 3:\n",
    "        print(\"Wednesday\")\n",
    "    case 4:\n",
    "        print(\"Thursday\")\n",
    "    case 5:\n",
    "        print(\"Friday\")\n",
    "    case 6:\n",
    "        print(\"Saturday\")\n",
    "    case 7:\n",
    "        print(\"Sunday\")\n",
    "    case _:\n",
    "        print(\"Not a day\")"
   ]
  },
  {
   "cell_type": "code",
   "execution_count": 10,
   "id": "1ec48370",
   "metadata": {},
   "outputs": [
    {
     "name": "stdout",
     "output_type": "stream",
     "text": [
      "Invalid colour\n"
     ]
    }
   ],
   "source": [
    "color = input(\"Enter color: \")\n",
    "\n",
    "match color:\n",
    "    case \"red\" | \"blinking\": # using OR operator\n",
    "        print(\"Stop\" )\n",
    "    case \"yellow\":\n",
    "        print(\"Slow Down \")\n",
    "    case \"green\":\n",
    "        print(\"Go\")\n",
    "    case _:\n",
    "        print(\"Invalid colour\")"
   ]
  },
  {
   "cell_type": "code",
   "execution_count": 15,
   "id": "774aa34a",
   "metadata": {},
   "outputs": [
    {
     "name": "stdout",
     "output_type": "stream",
     "text": [
      "2\n"
     ]
    }
   ],
   "source": [
    "\n",
    "# List pattern matching example and home work\n",
    "\n",
    "numbers  = [1, 2]\n",
    "match numbers:\n",
    "    case [x , y]:\n",
    "        print(x * y)\n",
    "    case [x, y, z]:\n",
    "        print(x * y + z)\n",
    "    case _:\n",
    "        print(\"List does not match any case\")"
   ]
  },
  {
   "cell_type": "code",
   "execution_count": null,
   "id": "9bdc001f",
   "metadata": {},
   "outputs": [
    {
     "name": "stdout",
     "output_type": "stream",
     "text": [
      "AVG : 27.5\n"
     ]
    }
   ],
   "source": [
    "temperature = [30, 25]\n",
    "\n",
    "match temperature:\n",
    "    case [a ,b]:\n",
    "        print(\"AVG :\",(a + b) / 2)\n",
    "    case [a ,b ,c ,d]:\n",
    "        print(\"Different is : \" , (a + b) - (c + d))\n",
    "    case _:\n",
    "        print(\" Unsupported reading\")\n"
   ]
  },
  {
   "cell_type": "code",
   "execution_count": null,
   "id": "a91d495e",
   "metadata": {},
   "outputs": [
    {
     "name": "stdout",
     "output_type": "stream",
     "text": [
      "12\n",
      "8\n",
      "12\n"
     ]
    }
   ],
   "source": [
    "# Loop example to print even numbers from a list\n",
    "\n",
    "my_list = [12, 5 ,8, 9 , 12]\n",
    "\n",
    "for item in my_list:\n",
    "    if item % 2 == 0:\n",
    "        print(item)"
   ]
  },
  {
   "cell_type": "code",
   "execution_count": 28,
   "id": "f4f60aed",
   "metadata": {},
   "outputs": [
    {
     "name": "stdout",
     "output_type": "stream",
     "text": [
      "1\n",
      "4\n",
      "9\n",
      "16\n",
      "25\n",
      "36\n",
      "49\n",
      "64\n",
      "81\n",
      "100\n"
     ]
    }
   ],
   "source": [
    "my_list = range(1,11)\n",
    "\n",
    "for item in my_list:\n",
    "    print(item ** 2)"
   ]
  },
  {
   "cell_type": "code",
   "execution_count": null,
   "id": "da1a4840",
   "metadata": {},
   "outputs": [
    {
     "name": "stdout",
     "output_type": "stream",
     "text": [
      "1\n",
      "4\n",
      "9\n",
      "16\n",
      "25\n",
      "36\n",
      "49\n",
      "64\n",
      "81\n"
     ]
    }
   ],
   "source": [
    "\n",
    "for item in range(1,int(input(\"input nymbers :\"))):\n",
    "   if (item ** 0.5) % 1 == 0:\n",
    "    print(item)\n",
    "   else:\n",
    "     print(\"........\")"
   ]
  },
  {
   "cell_type": "code",
   "execution_count": 47,
   "id": "63dfeacd",
   "metadata": {},
   "outputs": [
    {
     "name": "stdout",
     "output_type": "stream",
     "text": [
      "1\n",
      "4\n",
      "9\n",
      "16\n",
      "25\n",
      "36\n",
      "49\n",
      "64\n",
      "81\n"
     ]
    }
   ],
   "source": [
    "n = int(input(\"input number :\"))\n",
    "\n",
    "if n <= 0 :\n",
    "    print(\"enter a positive number\")\n",
    "else:\n",
    "    for i in range (1 , n):\n",
    "        squir_value = i ** 2\n",
    "        if squir_value < n :\n",
    "            print(squir_value)\n",
    "        else:\n",
    "            break"
   ]
  },
  {
   "cell_type": "code",
   "execution_count": null,
   "id": "7dab7763",
   "metadata": {},
   "outputs": [
    {
     "name": "stdout",
     "output_type": "stream",
     "text": [
      "not found\n"
     ]
    }
   ],
   "source": [
    "serach = int(input(\"Enter number to search: \"))\n",
    "my_list = [1, 2, 3, 4, 5, 6, 7, 8, 9]\n",
    "\n",
    "found = False\n",
    "\n",
    "for i in my_list:\n",
    "    if serach == i :\n",
    "        print(\"found number\")\n",
    "        found =True\n",
    "        break\n",
    "# if not found :\n",
    "#         print(\"not found\")\n",
    "else:\n",
    "    print(\"end\")\n",
    "        \n",
    "\n",
    "\n",
    "\n",
    "# if serach in my_list:\n",
    "#     print(\"Found at index:\", my_list.index(serach))\n",
    "# else:\n",
    "#     print(\"not found\")\n",
    "\n"
   ]
  },
  {
   "cell_type": "code",
   "execution_count": 73,
   "id": "b553dde4",
   "metadata": {},
   "outputs": [
    {
     "name": "stdout",
     "output_type": "stream",
     "text": [
      "-1\n"
     ]
    }
   ],
   "source": [
    "my_list = [ -2, -3, -4, -5, -6, -7, -8, -9 , -1]\n",
    "\n",
    "maximum  = my_list[0]\n",
    "\n",
    "for i in my_list:\n",
    "        if x < maximum :\n",
    "            x = i\n",
    "            \n",
    "print(x)\n",
    "\n",
    "        \n",
    "\n",
    "        \n"
   ]
  },
  {
   "cell_type": "code",
   "execution_count": null,
   "id": "21b53a63",
   "metadata": {},
   "outputs": [
    {
     "name": "stdout",
     "output_type": "stream",
     "text": [
      "[1, 4, 9, 16, 25]\n"
     ]
    }
   ],
   "source": [
    "# List comprehension example to square each item in a list\n",
    "# for loop in a single line\n",
    "\n",
    "my_list = [1, 2, 3, 4, 5]\n",
    "\n",
    "result = [item ** 2 for item in my_list]\n",
    "\n",
    "print(result)"
   ]
  },
  {
   "cell_type": "code",
   "execution_count": null,
   "id": "b4dba1b5",
   "metadata": {},
   "outputs": [
    {
     "name": "stdout",
     "output_type": "stream",
     "text": [
      "[9, 36, 81]\n"
     ]
    }
   ],
   "source": [
    "\n",
    "result = [ item ** 2  for item in range(1,11) if item % 2 == 0]\n",
    "print(result)"
   ]
  },
  {
   "cell_type": "code",
   "execution_count": 84,
   "id": "16bdc703",
   "metadata": {},
   "outputs": [
    {
     "name": "stdout",
     "output_type": "stream",
     "text": [
      "1\n",
      "2\n",
      "3\n",
      "4\n",
      "5\n",
      "6\n",
      "7\n",
      "8\n",
      "9\n"
     ]
    }
   ],
   "source": [
    "\n",
    "\n",
    "n = int (input(\"enter number\"))\n",
    "\n",
    "sec_num = 1\n",
    "\n",
    "if n > 0 :\n",
    "    while sec_num < n :\n",
    "       print(sec_num)\n",
    "       sec_num += 1\n",
    "else:\n",
    "    print(\"insert positive value\")\n",
    "       "
   ]
  },
  {
   "cell_type": "code",
   "execution_count": 91,
   "id": "54239ed1",
   "metadata": {},
   "outputs": [
    {
     "name": "stdout",
     "output_type": "stream",
     "text": [
      "revers is : 32232\n"
     ]
    }
   ],
   "source": [
    "num = int(input(\"input\"))\n",
    "\n",
    "rev = 0 \n",
    "\n",
    "while num > 0 :\n",
    "    digit = num % 10 \n",
    "    rev = rev * 10 + digit \n",
    "    num = num // 10 \n",
    "\n",
    "print(\"revers is :\" , rev)\n",
    "    \n",
    "            \n",
    "\n",
    "        \n"
   ]
  }
 ],
 "metadata": {
  "kernelspec": {
   "display_name": "Python 3",
   "language": "python",
   "name": "python3"
  },
  "language_info": {
   "codemirror_mode": {
    "name": "ipython",
    "version": 3
   },
   "file_extension": ".py",
   "mimetype": "text/x-python",
   "name": "python",
   "nbconvert_exporter": "python",
   "pygments_lexer": "ipython3",
   "version": "3.13.3"
  }
 },
 "nbformat": 4,
 "nbformat_minor": 5
}
