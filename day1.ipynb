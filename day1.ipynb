{
 "cells": [
  {
   "cell_type": "code",
   "execution_count": 2,
   "id": "ee856337",
   "metadata": {},
   "outputs": [
    {
     "name": "stdout",
     "output_type": "stream",
     "text": [
      "30\n"
     ]
    }
   ],
   "source": [
    "a = 10\n",
    "b = 20 \n",
    "print(a+b)\n"
   ]
  },
  {
   "cell_type": "code",
   "execution_count": 3,
   "id": "2c4946bd",
   "metadata": {},
   "outputs": [
    {
     "name": "stdout",
     "output_type": "stream",
     "text": [
      "800\n"
     ]
    }
   ],
   "source": [
    "num_1 = 80\n",
    "num_2 = 10\n",
    "\n",
    "print (num_1 * num_2)\n"
   ]
  },
  {
   "cell_type": "code",
   "execution_count": null,
   "id": "8884ef46",
   "metadata": {},
   "outputs": [
    {
     "name": "stdout",
     "output_type": "stream",
     "text": [
      "canote use like 2num\n",
      "100\n"
     ]
    }
   ],
   "source": [
    "_2num = 100\n",
    "print(\"canote use like 2num\")  # This will raise a SyntaxError because variable names cannot start with a digit.\n",
    "_num3 = 100\n",
    "print(_num3)  # This will print the value of num3, which is 100."
   ]
  },
  {
   "cell_type": "code",
   "execution_count": 10,
   "id": "724447e7",
   "metadata": {},
   "outputs": [
    {
     "name": "stdout",
     "output_type": "stream",
     "text": [
      "25\n",
      "<class 'int'>\n"
     ]
    }
   ],
   "source": [
    "num = 25\n",
    "print(num)  # This will print the value of num, which is 25.\n",
    "print(type(num))  # This will print the type of num, which is <class 'int'>."
   ]
  },
  {
   "cell_type": "code",
   "execution_count": 11,
   "id": "e578c30a",
   "metadata": {},
   "outputs": [
    {
     "name": "stdout",
     "output_type": "stream",
     "text": [
      "<class 'float'>\n"
     ]
    }
   ],
   "source": [
    "num = 20.5\n",
    "print(type(num))  # This will print the type of num, which is <class 'float'>."
   ]
  },
  {
   "cell_type": "code",
   "execution_count": 12,
   "id": "113f1382",
   "metadata": {},
   "outputs": [
    {
     "name": "stdout",
     "output_type": "stream",
     "text": [
      "<class 'complex'>\n"
     ]
    }
   ],
   "source": [
    "a = 10 + 20j\n",
    "print(type(a))  # This will print the type of a, which is <class 'complex'>."
   ]
  },
  {
   "cell_type": "code",
   "execution_count": null,
   "id": "f33f2326",
   "metadata": {},
   "outputs": [
    {
     "name": "stdout",
     "output_type": "stream",
     "text": [
      "2500000000000.0\n",
      "-620.0\n",
      "10\n"
     ]
    }
   ],
   "source": [
    "num4 = 2.5e12\n",
    "print(num4)  # This will print the value of num4, which is 2500000000000.0.\n",
    "\n",
    "num5 = -6.2e2\n",
    "print(num5)  # This will print the value of num5, which is -620.0.\n",
    "\n"
   ]
  },
  {
   "cell_type": "code",
   "execution_count": 17,
   "id": "3a709411",
   "metadata": {},
   "outputs": [
    {
     "name": "stdout",
     "output_type": "stream",
     "text": [
      "7 <class 'int'>\n",
      "7.0 <class 'float'>\n"
     ]
    }
   ],
   "source": [
    "x = 7\n",
    "a = float(x)\n",
    "print(x , type(x))  # This will print the value of x, which is 7.\n",
    "print(a ,  type(a))  # This will print the value of a, which is 7.0.\n"
   ]
  },
  {
   "cell_type": "code",
   "execution_count": 18,
   "id": "4acfdc2b",
   "metadata": {},
   "outputs": [
    {
     "name": "stdout",
     "output_type": "stream",
     "text": [
      "20.8 <class 'int'>\n",
      "20 <class 'int'>\n"
     ]
    }
   ],
   "source": [
    "y  = 20.8\n",
    "b = int(y)\n",
    "print(y , type(b))  # This will print the value of y, which is 20.8.\n",
    "print(b , type(b))  # This will print the value of b, which is 20."
   ]
  },
  {
   "cell_type": "code",
   "execution_count": 20,
   "id": "615e36a4",
   "metadata": {},
   "outputs": [
    {
     "name": "stdout",
     "output_type": "stream",
     "text": [
      "[10, 5, 'jhon ', 6.2, True]\n",
      "<class 'list'>\n"
     ]
    }
   ],
   "source": [
    "my_list = [10, 5 , \"jhon \", 6.2 , True ]\n",
    "print(my_list)  # This will print the list: [10, 5, 'jhon ', 6.2, True]\n",
    "print(type(my_list))  # This will print the type of my_list, which is <class 'list'>."
   ]
  },
  {
   "cell_type": "code",
   "execution_count": null,
   "id": "67141aff",
   "metadata": {},
   "outputs": [
    {
     "name": "stdout",
     "output_type": "stream",
     "text": [
      "5\n",
      "<class 'int'>\n"
     ]
    }
   ],
   "source": [
    "my_list = [10, 5 , \"jhon \", 6.2 , True ]\n",
    "print(my_list[1])  # This will print the second element in the list, which is 5.\n",
    "print(type(my_list[1]))  # This will print the type of the second element in the list, which is <class 'int'>."
   ]
  },
  {
   "cell_type": "code",
   "execution_count": 1,
   "id": "2c6bcb61",
   "metadata": {},
   "outputs": [
    {
     "name": "stdout",
     "output_type": "stream",
     "text": [
      "True\n",
      "<class 'bool'>\n"
     ]
    }
   ],
   "source": [
    "my_list = [10, 5 , \"jhon \", 6.2 , True ]\n",
    "print(my_list[-1]) # This will print the last element in the list, which is True.\n",
    "print(type(my_list[-1]))  # This will print the type of the last element in the list, which is <class 'bool'>."
   ]
  },
  {
   "cell_type": "code",
   "execution_count": 27,
   "id": "a37b4ab7",
   "metadata": {},
   "outputs": [
    {
     "name": "stdout",
     "output_type": "stream",
     "text": [
      "[5, 'jhon ', 6.2]\n"
     ]
    }
   ],
   "source": [
    "my_list = [10, 5 , \"jhon \", 6.2 , True ]\n",
    "print(my_list[1:4])  # This will print a slice of the list from index 1 to index 2, which is [5, 'jhon ']."
   ]
  },
  {
   "cell_type": "code",
   "execution_count": 28,
   "id": "b59b1cba",
   "metadata": {},
   "outputs": [
    {
     "name": "stdout",
     "output_type": "stream",
     "text": [
      "['jhon ', 6.2, True]\n"
     ]
    }
   ],
   "source": [
    "my_list = [10, 5 , \"jhon \", 6.2 , True ]\n",
    "print(my_list[2:])  # This will print a slice of the list from index 2 to the end, which is ['jhon ', 6.2, True]."
   ]
  },
  {
   "cell_type": "code",
   "execution_count": 29,
   "id": "cb5da209",
   "metadata": {},
   "outputs": [
    {
     "name": "stdout",
     "output_type": "stream",
     "text": [
      "[6.2, True]\n"
     ]
    }
   ],
   "source": [
    "my_list = [10, 5 , \"jhon \", 6.2 , True ]\n",
    "print(my_list[-2:])"
   ]
  },
  {
   "cell_type": "code",
   "execution_count": 31,
   "id": "a025e45c",
   "metadata": {},
   "outputs": [
    {
     "name": "stdout",
     "output_type": "stream",
     "text": [
      "[10, 5, 10, 'jhon ', 6.2, True]\n"
     ]
    }
   ],
   "source": [
    "my_list = [10, 5, 10 , \"jhon \", 6.2 , True ]\n",
    "print(my_list)"
   ]
  },
  {
   "cell_type": "code",
   "execution_count": 32,
   "id": "c2218479",
   "metadata": {},
   "outputs": [
    {
     "name": "stdout",
     "output_type": "stream",
     "text": [
      "[10, 5, 'KAsun', 6.2, True]\n"
     ]
    }
   ],
   "source": [
    "my_list = [10, 5 , \"jhon \", 6.2 , True ]\n",
    "my_list[2]= \"KAsun\"\n",
    "print(my_list)  # This will print the modified list: [10, 5, 'KAsun', 6.2, True]."
   ]
  },
  {
   "cell_type": "code",
   "execution_count": 36,
   "id": "2ceba240",
   "metadata": {},
   "outputs": [
    {
     "name": "stdout",
     "output_type": "stream",
     "text": [
      "[10, 5, 'kate', 9.4, False]\n"
     ]
    }
   ],
   "source": [
    "my_list = [10, 5 , \"jhon \", 6.2 , True ]\n",
    "my_list[2:5] = [\"kate\" , 9.4 , False]\n",
    "print(my_list)"
   ]
  },
  {
   "cell_type": "code",
   "execution_count": 37,
   "id": "6d46460a",
   "metadata": {},
   "outputs": [
    {
     "name": "stdout",
     "output_type": "stream",
     "text": [
      "[10, 5, 'jhon ', 6.2, True, 'new item']\n"
     ]
    }
   ],
   "source": [
    "my_list = [10, 5 , \"jhon \", 6.2 , True ]\n",
    "my_list.append(\"new item\")\n",
    "print(my_list)  # This will print the list with the new item appended: [10, 5, 'jhon ', 6.2, True, 'new item']."
   ]
  },
  {
   "cell_type": "code",
   "execution_count": 38,
   "id": "31522820",
   "metadata": {},
   "outputs": [
    {
     "name": "stdout",
     "output_type": "stream",
     "text": [
      "[10, 5, 'inserted item', 'jhon ', 6.2, True]\n"
     ]
    }
   ],
   "source": [
    "my_list = [10, 5 , \"jhon \", 6.2 , True ]\n",
    "my_list.insert(2, \"inserted item\")\n",
    "print(my_list)  # This will print the list with the new item inserted at index 2: [10, 5, 'inserted item', 'jhon ', 6.2, True]."
   ]
  },
  {
   "cell_type": "code",
   "execution_count": 39,
   "id": "ae8bab92",
   "metadata": {},
   "outputs": [
    {
     "name": "stdout",
     "output_type": "stream",
     "text": [
      "[10, 5, 'jhon ', 6.2, True, 1, 2, 3]\n"
     ]
    }
   ],
   "source": [
    "my_list = [10, 5 , \"jhon \", 6.2 , True ]\n",
    "my_list_1 = [1, 2, 3]\n",
    "my_list.extend(my_list_1)\n",
    "print(my_list)  # This will print the list with the elements of my_list_1 appended: [10, 5, 'jhon ', 6.2, True, 1, 2, 3]."
   ]
  },
  {
   "cell_type": "code",
   "execution_count": 41,
   "id": "7663d030",
   "metadata": {},
   "outputs": [
    {
     "name": "stdout",
     "output_type": "stream",
     "text": [
      "[10, 5, 6.2, True]\n"
     ]
    }
   ],
   "source": [
    "\n",
    "my_list = [10, 5 , \"jhon \", 6.2 , True ]\n",
    "my_list.remove(\"jhon \")\n",
    "print(my_list)  # This will raise a SyntaxError because the correct method is `remove`, not `remove(`. The correct line should be:"
   ]
  },
  {
   "cell_type": "code",
   "execution_count": 44,
   "id": "f8333327",
   "metadata": {},
   "outputs": [
    {
     "name": "stdout",
     "output_type": "stream",
     "text": [
      "[10, 5, 6.2, True]\n"
     ]
    }
   ],
   "source": [
    "my_list = [10, 5 , \"jhon \", 6.2 , True ]\n",
    "my_list.pop(2) # This will raise a SyntaxError because the correct method is `pop()`, not `pop[]`. The correct line should be:\n",
    "print(my_list)"
   ]
  },
  {
   "cell_type": "code",
   "execution_count": null,
   "id": "591bbc99",
   "metadata": {},
   "outputs": [
    {
     "name": "stdout",
     "output_type": "stream",
     "text": [
      "['Farha', 'Binu', 'Eshan', 'Chamara', 'Dilani']\n"
     ]
    }
   ],
   "source": [
    "\n",
    "# Exercise 1\n",
    "students =  [\"Amal\" , \"Binu\" , \"Chamara\"]\n",
    "students.append(\"Dilani\")\n",
    "students.insert(2 , \"Eshan\")\n",
    "\n",
    "students.remove(\"Amal\")\n",
    "students.insert(0, \"Farha\")\n",
    "print(students) \n",
    "\n"
   ]
  },
  {
   "cell_type": "code",
   "execution_count": null,
   "id": "6c88fa4f",
   "metadata": {},
   "outputs": [
    {
     "name": "stdout",
     "output_type": "stream",
     "text": [
      "5\n"
     ]
    }
   ],
   "source": [
    "my_list = [10, 5 , \"jhon \", 6.2 , True ]\n",
    "print(len(my_list)) # This will print the length of the list, which is 5."
   ]
  },
  {
   "cell_type": "code",
   "execution_count": 50,
   "id": "8f036bb2",
   "metadata": {},
   "outputs": [
    {
     "name": "stdout",
     "output_type": "stream",
     "text": [
      "[10, 5, 6.2, True]\n"
     ]
    }
   ],
   "source": [
    "my_list = [10, 5 , \"jhon \", 6.2 , True ]\n",
    "del my_list[2]\n",
    "print(my_list)  # This will print the list after deleting the element at index 2: [10, 5, 6.2, True]."
   ]
  },
  {
   "cell_type": "code",
   "execution_count": 51,
   "id": "ec8bd00f",
   "metadata": {},
   "outputs": [
    {
     "ename": "NameError",
     "evalue": "name 'my_list' is not defined",
     "output_type": "error",
     "traceback": [
      "\u001b[31m---------------------------------------------------------------------------\u001b[39m",
      "\u001b[31mNameError\u001b[39m                                 Traceback (most recent call last)",
      "\u001b[36mCell\u001b[39m\u001b[36m \u001b[39m\u001b[32mIn[51]\u001b[39m\u001b[32m, line 3\u001b[39m\n\u001b[32m      1\u001b[39m my_list = [\u001b[32m10\u001b[39m, \u001b[32m5\u001b[39m , \u001b[33m\"\u001b[39m\u001b[33mjhon \u001b[39m\u001b[33m\"\u001b[39m, \u001b[32m6.2\u001b[39m , \u001b[38;5;28;01mTrue\u001b[39;00m ]\n\u001b[32m      2\u001b[39m \u001b[38;5;28;01mdel\u001b[39;00m my_list\n\u001b[32m----> \u001b[39m\u001b[32m3\u001b[39m \u001b[38;5;28mprint\u001b[39m(\u001b[43mmy_list\u001b[49m)  \u001b[38;5;66;03m# This will raise a NameError because my_list has been deleted and is no longer defined.\u001b[39;00m\n",
      "\u001b[31mNameError\u001b[39m: name 'my_list' is not defined"
     ]
    }
   ],
   "source": [
    "my_list = [10, 5 , \"jhon \", 6.2 , True ]\n",
    "del my_list\n",
    "print(my_list)  # This will raise a NameError because my_list has been deleted and is no longer defined."
   ]
  },
  {
   "cell_type": "code",
   "execution_count": 52,
   "id": "8cd963dc",
   "metadata": {},
   "outputs": [
    {
     "name": "stdout",
     "output_type": "stream",
     "text": [
      "[]\n"
     ]
    }
   ],
   "source": [
    "my_list = [10, 5 , \"jhon \", 6.2 , True ]\n",
    "my_list.clear()\n",
    "print(my_list)  # This will print an empty list: []."
   ]
  },
  {
   "cell_type": "code",
   "execution_count": 54,
   "id": "a882035c",
   "metadata": {},
   "outputs": [
    {
     "name": "stdout",
     "output_type": "stream",
     "text": [
      "['apple', 'banana', 'brid', 'kiwi', 'orange']\n"
     ]
    }
   ],
   "source": [
    "my_list = [\"banana\", \"apple\", \"brid\", \"orange\", \"kiwi\"]\n",
    "my_list.sort()\n",
    "print(my_list)  # This will print the sorted list: ['apple', 'banana', 'kiwi', 'orange']."
   ]
  },
  {
   "cell_type": "code",
   "execution_count": 55,
   "id": "91b709f0",
   "metadata": {},
   "outputs": [
    {
     "name": "stdout",
     "output_type": "stream",
     "text": [
      "['Dog', 'apple', 'banana', 'brid', 'kiwi', 'orange']\n"
     ]
    }
   ],
   "source": [
    "my_list = [\"banana\", \"apple\", \"brid\", \"orange\", \"kiwi\" , \"Dog\"]\n",
    "my_list.sort()\n",
    "print(my_list)  # This will print the sorted list: ['Dog', 'apple', 'banana', 'brid', 'kiwi', 'orange']."
   ]
  },
  {
   "cell_type": "code",
   "execution_count": 56,
   "id": "4134e6b3",
   "metadata": {},
   "outputs": [
    {
     "name": "stdout",
     "output_type": "stream",
     "text": [
      "[20, 15, 10, 6.2, 5]\n"
     ]
    }
   ],
   "source": [
    "num_list = [10, 5 , 6.2 , 20 , 15]\n",
    "num_list.sort(reverse=True)\n",
    "print(num_list)  # This will print the sorted list in descending order: [20, 15, 10, 6.2, 5]."
   ]
  },
  {
   "cell_type": "code",
   "execution_count": null,
   "id": "3bb47936",
   "metadata": {},
   "outputs": [
    {
     "name": "stdout",
     "output_type": "stream",
     "text": [
      "[10, 5, 22, 6.2, True]\n",
      "[10, 5, 22, 6.2, True]\n"
     ]
    }
   ],
   "source": [
    "my_list_1 = [10, 5 , \"jhon \", 6.2 , True ]\n",
    "my_list_2 = my_list_1\n",
    "my_list_1[2] = 22\n",
    "print(my_list_1)  # This will print the original list: [10, 5, 'jhon ', 6.2, True].\n",
    "print(my_list_2)  # This will print the same list as my_list_1: [10, 5, 'jhon ', 6.2, True]."
   ]
  },
  {
   "cell_type": "code",
   "execution_count": null,
   "id": "5d8bab13",
   "metadata": {},
   "outputs": [
    {
     "name": "stdout",
     "output_type": "stream",
     "text": [
      "[10, 5, 'jhon ', 6.2, True]\n",
      "[10, 5, 22, 6.2, True]\n"
     ]
    }
   ],
   "source": [
    "my_list_1 = [10, 5 , \"jhon \", 6.2 , True ]\n",
    "my_list_2 = my_list_1.copy()\n",
    "print(my_list_2)  # This will print a copy of my_list_1: [10, 5, 'jhon ', 6.2, True].\n",
    "\n",
    "my_list_1[2] = 22\n",
    "print(my_list_1) # This will print the modified list: [10, 5, 22, 6.2, True]."
   ]
  },
  {
   "cell_type": "code",
   "execution_count": 61,
   "id": "6ab8c85f",
   "metadata": {},
   "outputs": [
    {
     "name": "stdout",
     "output_type": "stream",
     "text": [
      "[True, 6.2, 'jhon ', 5, 10]\n"
     ]
    }
   ],
   "source": [
    "my_list_1 = [10, 5 , \"jhon \", 6.2 , True ]\n",
    "my_list_1.reverse()\n",
    "print(my_list_1)  # This will print the reversed list: [True, 6.2, 'jhon ', 5, 10]."
   ]
  },
  {
   "cell_type": "code",
   "execution_count": null,
   "id": "01d7318e",
   "metadata": {},
   "outputs": [
    {
     "name": "stdout",
     "output_type": "stream",
     "text": [
      "[10, 12, 9, 4, 3, 4, 6, 5]\n"
     ]
    }
   ],
   "source": [
    "my_list_1 = [10,12,9,4,3]\n",
    "my_list_2 = [4,6,5]\n",
    "new_list = my_list_1 + my_list_2 # This will concatenate the two lists.\n",
    "print(new_list)"
   ]
  }
 ],
 "metadata": {
  "kernelspec": {
   "display_name": "Python 3",
   "language": "python",
   "name": "python3"
  },
  "language_info": {
   "codemirror_mode": {
    "name": "ipython",
    "version": 3
   },
   "file_extension": ".py",
   "mimetype": "text/x-python",
   "name": "python",
   "nbconvert_exporter": "python",
   "pygments_lexer": "ipython3",
   "version": "3.13.3"
  }
 },
 "nbformat": 4,
 "nbformat_minor": 5
}
