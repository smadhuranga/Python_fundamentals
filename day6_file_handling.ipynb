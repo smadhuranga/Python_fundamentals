{
 "cells": [
  {
   "cell_type": "code",
   "execution_count": null,
   "id": "486621a3",
   "metadata": {},
   "outputs": [
    {
     "name": "stdout",
     "output_type": "stream",
     "text": [
      "Hi Guys! Hope everthing is good. I'm fine too.\n",
      "This is much better.\n",
      "This is even better.\n",
      "I love AI.\n"
     ]
    }
   ],
   "source": [
    "# File Handling Example\n",
    "# This code demonstrates how to read a file in Python using the `open` function and the `read` method.\n",
    "\n",
    "file_1 = open(\"file_handling/my_file.txt\") # Open file in read mode and default initializes to read mode (\"r\")\n",
    "\n",
    "file_1 = open(\"file_handling/my_file.txt\",\"r\") # Open file in read mode\n",
    "\n",
    "\n",
    "\n",
    "read_content = file_1.read() # Read the entire content of the file\n",
    "print(read_content) # Print the content of the file\n",
    "\n",
    "file_1.close() # Close the file after reading"
   ]
  },
  {
   "cell_type": "code",
   "execution_count": null,
   "id": "19a5d641",
   "metadata": {},
   "outputs": [
    {
     "name": "stdout",
     "output_type": "stream",
     "text": [
      "Hi Guys! Hope everthing is good. I'm fine too.\n",
      "\n",
      "This is much better.\n",
      "\n"
     ]
    }
   ],
   "source": [
    "# Reading lines from a file\n",
    "\n",
    "file_1 = open(\"file_handling/my_file.txt\") # Open file in write mode, this will overwrite the existing content\n",
    "line_1 = file_1.readline() # Read the first line of the file\n",
    "print(line_1)\n",
    "line_2 = file_1.readline()\n",
    "print(line_2)\n",
    "file_1.close() # Close the file after reading"
   ]
  },
  {
   "cell_type": "code",
   "execution_count": null,
   "id": "820385de",
   "metadata": {},
   "outputs": [
    {
     "name": "stdout",
     "output_type": "stream",
     "text": [
      "Hi Guys! Hope everthing is good. I'm fine too.\n",
      "This is much better.\n",
      "This is even better.\n",
      "I love AI.\n"
     ]
    }
   ],
   "source": [
    "# Reading all lines from a file into a list\n",
    "file_1 = open(\"file_handling/my_file.txt\") # Open file in write mode, this will overwrite the existing content\n",
    "while True:\n",
    "    line = file_1.readline()\n",
    "    if not line : \n",
    "        break\n",
    "    print(line.strip()) # Removes the newline charactor at the end of each line"
   ]
  },
  {
   "cell_type": "code",
   "execution_count": null,
   "id": "caffe8e4",
   "metadata": {},
   "outputs": [
    {
     "name": "stdout",
     "output_type": "stream",
     "text": [
      "[\"Hi Guys! Hope everthing is good. I'm fine too.\\n\", 'This is much better.\\n', 'This is even better.\\n', 'I love AI.']\n",
      "[\"Hi Guys! Hope everthing is good. I'm fine too.\", 'bada bala Dilsara', 'This is even better.', 'I love AI.']\n"
     ]
    }
   ],
   "source": [
    "# Reading all lines from a file into a list\n",
    "\n",
    "file_1 = open(\"file_handling/my_file.txt\") # Open file in write mode, this will overwrite the existing content\n",
    "lines = file_1.readlines() # Read all lines of the file into a list\n",
    "\n",
    "print(lines) # Print the list of lines\n",
    "lines[1] = \"bada bala Dilsara\\n\" # Modify the second line\n",
    "lines = [line.strip() for line in lines] # Remove newline characters from each line\n",
    "print(lines) # Print the modified list of lines\n",
    "file_1.close() # Close the file after reading"
   ]
  },
  {
   "cell_type": "code",
   "execution_count": null,
   "id": "2ff078b9",
   "metadata": {},
   "outputs": [
    {
     "name": "stdout",
     "output_type": "stream",
     "text": [
      "Hi Guys! Hope everthing is good. I'm fine too.\n",
      "This is much better.\n",
      "This is even better.\n",
      "I love AI.\n"
     ]
    }
   ],
   "source": [
    "# Reading all lines from a file into a list using with statement\n",
    "\n",
    "file_1 = open(\"file_handling/my_file.txt\") # Open file in write mode, this will overwrite the existing content\n",
    "lines = file_1.readlines() \n",
    "for line in lines:\n",
    "    print(line.strip()) \n",
    "file_1.close() "
   ]
  },
  {
   "cell_type": "code",
   "execution_count": null,
   "id": "5d9546af",
   "metadata": {},
   "outputs": [
    {
     "name": "stdout",
     "output_type": "stream",
     "text": [
      "Hi Guys! Hope everthing is good. I'm fine too.\n",
      "This is much better.\n",
      "This is even better.\n",
      "I love AI.\n"
     ]
    }
   ],
   "source": [
    "# With statement for file handling\n",
    "\n",
    "with open(\"file_handling/my_file.txt\") as file_1: # Open file in read mode (Standard mode)\n",
    "    lines = file_1.readlines() # Read all lines of the file into a list\n",
    "    for line in lines:\n",
    "        print(line.strip()) \n",
    "# The file will be automatically closed after the with block"
   ]
  },
  {
   "cell_type": "code",
   "execution_count": 17,
   "id": "a7c9db01",
   "metadata": {},
   "outputs": [
    {
     "name": "stdout",
     "output_type": "stream",
     "text": [
      "Hello, this is a new file.\n",
      "Dilasara bada booolayaaa\n",
      "Bada bala Dilsara\n",
      "\n"
     ]
    }
   ],
   "source": [
    "# Create a new file and write to it\n",
    "with open(\"file_handling/new_file.txt\", \"w\") as file_2: # Open file in write mode (this will create a new file or overwrite an existing one)\n",
    "    file_2.write(\"Hello, this is a new file.\\n\") # Write a line to the file\n",
    "    file_2.write(\"Dilasara bada booolayaaa\\n\") # Write another line\n",
    "    file_2.write(\"Bada bala Dilsara\\n\") # Write another line\n",
    "# The file will be automatically closed after the with block\n",
    "# Reading the newly created file\n",
    "with open(\"file_handling/new_file.txt\") as file_2: # Open the new file in read mode\n",
    "    content = file_2.read() # Read the entire content of the file\n",
    "    print(content) # Print the content of the new file"
   ]
  },
  {
   "cell_type": "code",
   "execution_count": 19,
   "id": "4148b91d",
   "metadata": {},
   "outputs": [
    {
     "name": "stdout",
     "output_type": "stream",
     "text": [
      "writeLine method.\n",
      "Dilasara bada booolayaaa\n",
      "Bada bala Dilsara\n",
      "\n"
     ]
    }
   ],
   "source": [
    "#Writeline Example\n",
    "with open(\"file_handling/new_file.txt\", \"w\") as file_2: # Open file in write mode (this will create a new file or overwrite an existing one)\n",
    "    lines = [\"writeLine method.\\n\", \"Dilasara bada booolayaaa\\n\", \"Bada bala Dilsara\\n\"]\n",
    "    file_2.writelines(lines) # Write multiple lines to the file\n",
    "# The file will be automatically closed after the with block\n",
    "# Reading the newly created file\n",
    "with open(\"file_handling/new_file.txt\") as file_2: # Open the new file in read mode\n",
    "    content = file_2.read() # Read the entire content of the file\n",
    "    print(content) # Print the content of the new file"
   ]
  },
  {
   "cell_type": "code",
   "execution_count": null,
   "id": "bed2e38f",
   "metadata": {},
   "outputs": [
    {
     "name": "stdout",
     "output_type": "stream",
     "text": [
      "writeLine method.\n",
      "Dilasara bada booolayaaa\n",
      "Bada bala Dilsara\n",
      "writeLine method.\n",
      "Dilasara bada booolayaaa\n",
      "Bada bala Dilsara\n",
      "\n"
     ]
    }
   ],
   "source": [
    "# Append to a file using writelines method\n",
    "\n",
    "with open(\"file_handling/new_file.txt\", \"a\") as file_2: # Open file in write mode (this will create a new file or overwrite an existing one)\n",
    "    lines = [\"writeLine method.\\n\", \"Dilasara bada booolayaaa\\n\", \"Bada bala Dilsara\\n\"]\n",
    "    file_2.writelines(lines) # Write multiple lines to the file\n",
    "\n",
    "with open(\"file_handling/new_file.txt\") as file_2: # Open the new file in read mode\n",
    "    content = file_2.read() # Read the entire content of the file\n",
    "    print(content) # Print the content of the new file"
   ]
  },
  {
   "cell_type": "code",
   "execution_count": 22,
   "id": "9eabc3e1",
   "metadata": {},
   "outputs": [
    {
     "name": "stdout",
     "output_type": "stream",
     "text": [
      "{'name': 'John Doe', 'age': 30, 'isStudent': False, 'hobbies': ['reading', 'gardening', 'swimming']}\n",
      "<class 'dict'>\n"
     ]
    }
   ],
   "source": [
    "# JSON\n",
    "\n",
    "import json\n",
    "\n",
    "# Specifying the file path\n",
    "file_path = \"file_handling/test.json\"\n",
    "\n",
    "#Opening the file for reading\n",
    "with open(file_path, \"r\") as file:\n",
    "    # Loading the JSON data from the file\n",
    "    data = json.load(file)\n",
    "# The data variable now contains the JSON data as a Python dictionary or list\n",
    "# You can now work with the data as needed, for example, printing it or accessing specific\n",
    "# elements within the JSON structure.\n",
    "# Note: Ensure that the JSON file is properly formatted and exists at the specified path.\n",
    "\n",
    "# Printing the loaded JSON data\n",
    "print(data)\n",
    "print(type(data))  # This will show the type of the data (e.g., dict or list)"
   ]
  },
  {
   "cell_type": "code",
   "execution_count": null,
   "id": "dbe1750d",
   "metadata": {},
   "outputs": [
    {
     "name": "stdout",
     "output_type": "stream",
     "text": [
      "{'name': 'John Doe', 'age': 30, 'city': 'New York', 'is_student': False, 'courses': ['Math', 'Science', 'History'], 'address': {'street': '123 Main St', 'zip': '10001'}}\n"
     ]
    }
   ],
   "source": [
    "# Writing JSON data to a file\n",
    "\n",
    "import json\n",
    "# create a dictionary to write to a JSON file\n",
    "data = {\n",
    "    \"name\": \"John Doe\",\n",
    "    \"age\": 30,\n",
    "    \"city\": \"New York\",\n",
    "    \"is_student\": False,\n",
    "    \"courses\": [\"Math\", \"Science\", \"History\"],\n",
    "    \"address\": {\n",
    "        \"street\": \"123 Main St\",\n",
    "        \"zip\": \"10001\"\n",
    "    }\n",
    "}\n",
    "# Specify the file path where you want to save the JSON data\n",
    "file_path = \"file_handling/data_1.json\"\n",
    "# Open the file for writing\n",
    "with open(file_path, \"w\") as file:\n",
    "    # Write the JSON data to the file\n",
    "    json.dump(data, file, indent=4)  # indent=4 for pretty printing\n",
    "# The JSON data is now written to the specified file\n",
    "# You can verify the content of the file by opening it in a text editor or reading it back\n",
    "# For example, you can read the file back to confirm the data was written correctly\n",
    "with open(file_path, \"r\") as file:\n",
    "    loaded_data = json.load(file)\n",
    "    print(loaded_data)  # This will print the data read from the JSON file\n"
   ]
  },
  {
   "cell_type": "code",
   "execution_count": 25,
   "id": "66bd745c",
   "metadata": {},
   "outputs": [
    {
     "name": "stdout",
     "output_type": "stream",
     "text": [
      "['Name', 'Age', 'Occupation']\n",
      "['John Doe', '30', 'Engineer']\n",
      "['Jane Smith', '25', 'Teacher']\n",
      "['Bob Johnson', '40', 'Doctor']\n",
      "['Alice Brown', '35', 'Artist']\n"
     ]
    }
   ],
   "source": [
    "# CSV (Comma-Separated Values) is a simple file format used to store tabular data, such as spreadsheets or databases. Each line in a CSV file corresponds to a row in the table, and each value in the row is separated by a comma.\n",
    "\n",
    "import csv\n",
    "\n",
    "# Opening a CSV file for reading\n",
    "with open(\"file_handling/test.csv\", \"r\", newline='') as csv_file: # newline='' is used to prevent extra blank lines in Windows \n",
    "    csv_reader = csv.reader(csv_file)  # Create a CSV reader object\n",
    "    for row in csv_reader:  # Iterate through each row in the CSV file\n",
    "        print(row)  # Print the row (which is a list of values)"
   ]
  },
  {
   "cell_type": "code",
   "execution_count": null,
   "id": "609b8dc9",
   "metadata": {},
   "outputs": [
    {
     "name": "stdout",
     "output_type": "stream",
     "text": [
      "{'Name': 'John Doe', 'Age': '30', 'Occupation': 'Engineer'}\n",
      "{'Name': 'Jane Smith', 'Age': '25', 'Occupation': 'Teacher'}\n",
      "{'Name': 'Bob Johnson', 'Age': '40', 'Occupation': 'Doctor'}\n",
      "{'Name': 'Alice Brown', 'Age': '35', 'Occupation': 'Artist'}\n"
     ]
    }
   ],
   "source": [
    "import csv\n",
    "\n",
    "# Opening a CSV file for reading\n",
    "with open(\"file_handling/test.csv\", \"r\", newline='') as csv_file: # newline='' is used to prevent extra blank lines in Windows \n",
    "    csv_reader = csv.DictReader(csv_file)  # Create a CSV reader object that reads rows as dictionaries\n",
    "    for row in csv_reader:  # Iterate through each row in the CSV file\n",
    "        print(row)  # Print the row (which is a list of values)"
   ]
  },
  {
   "cell_type": "code",
   "execution_count": null,
   "id": "a309149a",
   "metadata": {},
   "outputs": [
    {
     "name": "stdout",
     "output_type": "stream",
     "text": [
      "{'name': 'John', 'age': '30', 'city': 'New York'}\n",
      "{'name': 'Jane', 'age': '25', 'city': 'Los Angeles'}\n",
      "{'name': 'Mike', 'age': '35', 'city': 'Chicago'}\n"
     ]
    }
   ],
   "source": [
    "import csv\n",
    "\n",
    "data = [\n",
    "    {\"name\": \"John\", \"age\": 30, \"city\": \"New York\"},\n",
    "    {\"name\": \"Jane\", \"age\": 25, \"city\": \"Los Angeles\"},\n",
    "    {\"name\": \"Mike\", \"age\": 35, \"city\": \"Chicago\"}\n",
    "]\n",
    "# Specify the file path where you want to save the CSV data\n",
    "file_path = \"file_handling/data_1.csv\"\n",
    "# Open the file for writing\n",
    "with open(file_path, \"w\", newline='') as csv_file:  # newline='' is used to prevent extra blank lines in Windows \n",
    "    fieldnames = data[0].keys()\n",
    "    writer = csv.DictWriter(csv_file, fieldnames=fieldnames)  # Create a CSV writer object\n",
    "    writer.writeheader()  # Write the header row\n",
    "\n",
    "\n",
    "\n",
    "# Write the data to the CSV file writer.writerows(data)  # Write all rows from the data list\n",
    "\n",
    "\n",
    "\n",
    "\n",
    "    for row in data:  # Iterate through each dictionary in the data list\n",
    "        writer.writerow(row)  # Write each row to the CSV file      \n",
    "# The CSV data is now written to the specified file\n",
    "# You can verify the content of the file by opening it in a text editor or reading it back\n",
    "# For example, you can read the file back to confirm the data was written correctly\n",
    "with open(file_path, \"r\", newline='') as csv_file:  # newline='' is used to prevent extra blank lines in Windows \n",
    "    csv_reader = csv.DictReader(csv_file)\n",
    "    for row in csv_reader:  # Iterate through each row in the CSV file\n",
    "        print(row)  # Print the row (which is a dictionary of values)"
   ]
  }
 ],
 "metadata": {
  "kernelspec": {
   "display_name": "Python 3",
   "language": "python",
   "name": "python3"
  },
  "language_info": {
   "codemirror_mode": {
    "name": "ipython",
    "version": 3
   },
   "file_extension": ".py",
   "mimetype": "text/x-python",
   "name": "python",
   "nbconvert_exporter": "python",
   "pygments_lexer": "ipython3",
   "version": "3.13.3"
  }
 },
 "nbformat": 4,
 "nbformat_minor": 5
}
