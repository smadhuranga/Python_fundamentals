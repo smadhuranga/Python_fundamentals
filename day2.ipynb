{
 "cells": [
  {
   "cell_type": "code",
   "execution_count": 3,
   "id": "22a16fb3",
   "metadata": {},
   "outputs": [
    {
     "name": "stdout",
     "output_type": "stream",
     "text": [
      "('tennis', 'cricket', 'football')\n",
      "<class 'tuple'>\n",
      "cricket\n"
     ]
    }
   ],
   "source": [
    "sports = (\"tennis\" , \"cricket\", \"football\" )\n",
    "print(sports)\n",
    "print(type(sports))\n",
    "print(sports[1])"
   ]
  },
  {
   "cell_type": "code",
   "execution_count": null,
   "id": "99c6ff73",
   "metadata": {},
   "outputs": [
    {
     "name": "stdout",
     "output_type": "stream",
     "text": [
      "3\n"
     ]
    }
   ],
   "source": [
    "sports = (\"tennis\" , \"cricket\", \"football\" )\n",
    "print(len(sports)) #length of tuple"
   ]
  },
  {
   "cell_type": "code",
   "execution_count": 8,
   "id": "c654f4d8",
   "metadata": {},
   "outputs": [
    {
     "name": "stdout",
     "output_type": "stream",
     "text": [
      "<class 'str'>\n",
      "<class 'tuple'>\n"
     ]
    }
   ],
   "source": [
    "sports = (\"tennis\" )\n",
    "print(type(sports)) #this is a string, not a tuple\n",
    "sports = (\"tennis\", ) #this is a tuple with one element\n",
    "print(type(sports)) #this is a tuple with one element"
   ]
  },
  {
   "cell_type": "code",
   "execution_count": null,
   "id": "bb1e823f",
   "metadata": {},
   "outputs": [
    {
     "name": "stdout",
     "output_type": "stream",
     "text": [
      "('tennis', 'cricket', 'football', '30', True)\n",
      "('football', '30', True)\n",
      "('tennis', 'cricket', 'football', '30')\n",
      "('football', '30', True)\n"
     ]
    }
   ],
   "source": [
    "sports = (\"tennis\" , \"cricket\", \"football\" , \"30\" , True )\n",
    "print(sports)\n",
    "print(sports[2:5]) #slicing the tuple\n",
    "print(sports[:4]) \n",
    "print(sports[2:])\n"
   ]
  },
  {
   "cell_type": "code",
   "execution_count": 17,
   "id": "86295f31",
   "metadata": {},
   "outputs": [
    {
     "name": "stdout",
     "output_type": "stream",
     "text": [
      "['tennis', 'cricket', 'football']\n"
     ]
    }
   ],
   "source": [
    "sports = (\"tennis\" , \"cricket\", \"football\" )\n",
    "x = list(sports) #convert tuple to list\n",
    "print(x)\n",
    "x[1] = \"hockey\" #change the second element\n",
    "sports = tuple(x) #convert list back to tuple"
   ]
  },
  {
   "cell_type": "code",
   "execution_count": 20,
   "id": "0ec80b98",
   "metadata": {},
   "outputs": [
    {
     "name": "stdout",
     "output_type": "stream",
     "text": [
      "(('tennis', 'cricket', 'football'), (1, 2, 3), (True, False))\n",
      "('tennis', 'cricket', 'football')\n",
      "cricket\n",
      "False\n"
     ]
    }
   ],
   "source": [
    "# Tuple with mixed data types\n",
    "nested_tuple = ((\"tennis\" , \"cricket\", \"football\" ), (1, 2, 3) , (True,False))\n",
    "print(nested_tuple)\n",
    "print(nested_tuple[0]) #accessing the first element of the first tuple\n",
    "print(nested_tuple[0][1]) #accessing the second element of the first tuple\n",
    "print(nested_tuple[2][1]) #accessing the second element of the third tuple"
   ]
  },
  {
   "cell_type": "code",
   "execution_count": null,
   "id": "63ceac2c",
   "metadata": {},
   "outputs": [
    {
     "name": "stdout",
     "output_type": "stream",
     "text": [
      "{'football', 'tennis', 'cricket'}\n",
      "<class 'set'>\n",
      "{'hockey', 'football', 'tennis', 'cricket'}\n",
      "{'hockey', 'football', 'tennis'}\n",
      "{'e', 'cricket', 'basketball', 'hockey', 'football', 'tennis', 'l'}\n"
     ]
    }
   ],
   "source": [
    "set_sports = {\"tennis\", \"cricket\", \"football\"}  # set\n",
    "print(set_sports)\n",
    "print(type(set_sports))  # type of set\n",
    "set_sports.add(\"hockey\")  # adding an element to the set\n",
    "print(set_sports)\n",
    "set_sports.remove(\"cricket\")  # removing an element from the set\n",
    "print(set_sports)\n",
    "set_sports = {\"tennis\", \"cricket\", \"football\"}  # set\n",
    "\n",
    "set_sports.update({\"hockey\", \"basketball\"})  # updating the set with multiple elements also we can set_sports.update(set_2) set_2 is another set\n",
    "set_sports.update({})  # discarding an element from the set\n",
    "print(set_sports)\n"
   ]
  },
  {
   "cell_type": "code",
   "execution_count": 38,
   "id": "87f51e8c",
   "metadata": {},
   "outputs": [
    {
     "name": "stdout",
     "output_type": "stream",
     "text": [
      "{'cricket', 'basketball', 'hockey', 'football', 'tennis'}\n"
     ]
    }
   ],
   "source": [
    "set_sports = {\"tennis\", \"cricket\", \"football\"}\n",
    "list_1 = [\"hockey\", \"basketball\"]\n",
    "set_sports.update(list_1)  \n",
    "print(set_sports)"
   ]
  },
  {
   "cell_type": "code",
   "execution_count": 51,
   "id": "40c37129",
   "metadata": {},
   "outputs": [
    {
     "name": "stdout",
     "output_type": "stream",
     "text": [
      "[50, 60, 30, 40, 50, 25, 60, 30, 40]\n",
      "{40, 50, 25, 60, 30}\n",
      "[25, 30, 40, 50, 60]\n"
     ]
    }
   ],
   "source": [
    "list_1= [50,60,30,40,50,25,60,30,40]\n",
    "print(list_1)\n",
    "set_1 = set(list_1) #convert list to set\n",
    "print(set_1)  # this will remove duplicates\n",
    "list_1 = list(set_1) #convert set back to list\n",
    "list_1.sort() #sort the list\n",
    "\n",
    "print(list_1)"
   ]
  },
  {
   "cell_type": "code",
   "execution_count": 54,
   "id": "3e427cd6",
   "metadata": {},
   "outputs": [
    {
     "name": "stdout",
     "output_type": "stream",
     "text": [
      "range(1, 12, 2)\n",
      "range(1, 7)\n",
      "range(3, 24, 4)\n",
      "<class 'range'>\n",
      "11\n",
      "23\n"
     ]
    },
    {
     "ename": "IndexError",
     "evalue": "range object index out of range",
     "output_type": "error",
     "traceback": [
      "\u001b[31m---------------------------------------------------------------------------\u001b[39m",
      "\u001b[31mIndexError\u001b[39m                                Traceback (most recent call last)",
      "\u001b[36mCell\u001b[39m\u001b[36m \u001b[39m\u001b[32mIn[54]\u001b[39m\u001b[32m, line 11\u001b[39m\n\u001b[32m      9\u001b[39m \u001b[38;5;28mprint\u001b[39m(z[\u001b[32m2\u001b[39m])  \u001b[38;5;66;03m# accessing the third element of the range\u001b[39;00m\n\u001b[32m     10\u001b[39m \u001b[38;5;28mprint\u001b[39m(z[\u001b[32m5\u001b[39m])\n\u001b[32m---> \u001b[39m\u001b[32m11\u001b[39m \u001b[38;5;28mprint\u001b[39m(\u001b[43mz\u001b[49m\u001b[43m[\u001b[49m\u001b[32;43m6\u001b[39;49m\u001b[43m]\u001b[49m) \u001b[38;5;66;03m# accessing the seventh element of the range its cannot be accessed as it is out of range\u001b[39;00m\n",
      "\u001b[31mIndexError\u001b[39m: range object index out of range"
     ]
    }
   ],
   "source": [
    "# Range in Python\n",
    "y = range(1,12,2)\n",
    "x = range(1,7,1)\n",
    "z = range(3, 24 , 4)\n",
    "print(y)\n",
    "print(x)\n",
    "print(z)\n",
    "print(type(y))  # type of range\n",
    "print(z[2])  # accessing the third element of the range\n",
    "print(z[5])\n",
    "print(z[6]) # accessing the seventh element of the range its cannot be accessed as it is out of range\n"
   ]
  },
  {
   "cell_type": "code",
   "execution_count": 69,
   "id": "14e2dd03",
   "metadata": {},
   "outputs": [
    {
     "name": "stdout",
     "output_type": "stream",
     "text": [
      "{'name': 'John', 'weight': '1kg', 'price': 130.35}\n",
      "<class 'dict'>\n",
      "John\n",
      "1kg\n",
      "{'name': 'John', 'weight': '1kg', 'price': 69}\n",
      "dict_keys(['name', 'weight', 'price'])\n",
      "dict_values(['John', '1kg', 69])\n",
      "dict_items([('name', 'John'), ('weight', '1kg'), ('price', 69)])\n",
      "{'name': 'John', 'weight': '1kg', 'price': 69, 'color': 'red'}\n",
      "1kg\n",
      "{'name': 'John', 'price': 69, 'color': 'red'}\n",
      "3\n",
      "{'name': 'John', 'price': 69, 'color': 'red', 'size': 'large', 'brand': 'Nike'}\n",
      "{'name': 'John', 'price': 69, 'color': 'red', 'size': 'large'}\n",
      "{'name': 'John', 'price': 69, 'size': 'large'}\n",
      "{}\n"
     ]
    }
   ],
   "source": [
    "this_dict = {\n",
    "    \"name\": \"John\",\n",
    "    \"weight\": \"1kg\",\n",
    "    \"price\" : 130.35\n",
    "}\n",
    "print(this_dict)\n",
    "\n",
    "print(type(this_dict))  # type of dictionary\n",
    "\n",
    "print(this_dict[\"name\"])  # accessing the value of the key \"name\" / chnging the value of the key \"name\"\n",
    "\n",
    "print(this_dict.get(\"weight\"))  # accessing the value of the key \"weight\" using get method\n",
    "\n",
    "this_dict[\"price\"] = 69  # updating the value of the key \"price\"\n",
    "print(this_dict)\n",
    "\n",
    "print(this_dict.keys())  # accessing the keys of the dictionary\n",
    "\n",
    "print(this_dict.values())  # accessing the values of the dictionary\n",
    "\n",
    "print(this_dict.items())  # accessing the items of the dictionary\n",
    "\n",
    "this_dict[\"color\"] = \"red\"  # adding a new key-value pair to the dictionary\n",
    "print(this_dict)\n",
    "\n",
    "print(this_dict.pop(\"weight\"))  # removing the key \"weight\" and returning its value\n",
    "print(this_dict)\n",
    "\n",
    "print(len(this_dict))\n",
    "\n",
    "this_dict.update({\"size\": \"large\", \"brand\": \"Nike\"})  # updating the dictionary with multiple key-value pairs\n",
    "print(this_dict)\n",
    "\n",
    "this_dict.popitem()  # removing the last inserted key-value pair and returning it\n",
    "print(this_dict)\n",
    "\n",
    "del this_dict[\"color\"]  # deleting the key \"color\" from the dictionary\n",
    "print(this_dict)\n",
    "\n",
    "#del this_dict  # deleting the entire dictionary\n",
    "#print(this_dict)  # this will raise an error as the dictionary is deleted\n",
    "\n",
    "\n",
    "this_dict.clear()\n",
    "print(this_dict)  # this will print an empty dictionary\n",
    "\n",
    "\n"
   ]
  },
  {
   "cell_type": "code",
   "execution_count": 71,
   "id": "936a931d",
   "metadata": {},
   "outputs": [
    {
     "name": "stdout",
     "output_type": "stream",
     "text": [
      "{'name': 'Supun', 'weight': '1kg', 'price': 130.35}\n",
      "{'name': 'John', 'weight': '1kg', 'price': 130.35}\n"
     ]
    }
   ],
   "source": [
    "this_dict = {\n",
    "    \"name\": \"John\",\n",
    "    \"weight\": \"1kg\",\n",
    "    \"price\" : 130.35\n",
    "}\n",
    "sec_dict = this_dict.copy() \n",
    "this_dict[\"name\"] = \"Supun\"\n",
    "print(this_dict)\n",
    "print(sec_dict)"
   ]
  },
  {
   "cell_type": "code",
   "execution_count": null,
   "id": "6477a11a",
   "metadata": {},
   "outputs": [],
   "source": [
    "this_dict = {\n",
    "    \"name\": \"John\",\n",
    "    \"weight\": \"1kg\",\n",
    "    \"price\" : 130.35\n",
    "}\n",
    "\n"
   ]
  },
  {
   "cell_type": "code",
   "execution_count": null,
   "id": "7fca9527",
   "metadata": {},
   "outputs": [
    {
     "name": "stdout",
     "output_type": "stream",
     "text": [
      "70 20\n",
      "x+y 90\n",
      "1400\n",
      "50\n",
      "3.5\n",
      "x//y =  3\n",
      "10\n",
      "7979226629761200100000000000000000000\n"
     ]
    }
   ],
   "source": [
    "x,y = 70, 20\n",
    "print(x, y)  # printing the values of x and y\n",
    "print(\"x + y =\",x + y)  # printing the sum of x and y\n",
    "print(x * y)  # printing the product of x and y\n",
    "print(x - y)  # printing the difference of x and y\n",
    "print(x / y)  # printing the division of x and y\n",
    "print(\"x//y = \",x // y)  # printing the floor division of x and y\n",
    "print(x % y)  # printing the modulus of x and y ...... remainder of the division\n",
    "print(x ** y)  # printing the exponentiation of x and y"
   ]
  },
  {
   "cell_type": "code",
   "execution_count": 76,
   "id": "674e37ef",
   "metadata": {},
   "outputs": [
    {
     "name": "stdout",
     "output_type": "stream",
     "text": [
      "False\n",
      "True\n",
      "True\n",
      "False\n",
      "True\n",
      "False\n"
     ]
    }
   ],
   "source": [
    "x, y = 70, 20\n",
    "#Comparison operators\n",
    "print(x == y)  # checking if x is equal to y\n",
    "print(x != y)  # checking if x is not equal to y\n",
    "print(x > y)   # checking if x is greater than y\n",
    "print(x < y)   # checking if x is less than y   \n",
    "print(x >= y)  # checking if x is greater than or equal to y\n",
    "print(x <= y)  # checking if x is less than or equal to y"
   ]
  },
  {
   "cell_type": "code",
   "execution_count": 78,
   "id": "ad2489d5",
   "metadata": {},
   "outputs": [
    {
     "name": "stdout",
     "output_type": "stream",
     "text": [
      "True\n",
      "True\n",
      "False\n"
     ]
    }
   ],
   "source": [
    "#Logical operators\n",
    "print(x > 50 and y < 30)  # checking if x is greater than 50 and y is less than 30\n",
    "print(x > 50 or y < 30)   # checking if x is greater than 50 or y is less than 30\n",
    "print(not(x > 50))  # checking if x is not greater than 50\n"
   ]
  },
  {
   "cell_type": "code",
   "execution_count": 80,
   "id": "e15c1e1b",
   "metadata": {},
   "outputs": [
    {
     "name": "stdout",
     "output_type": "stream",
     "text": [
      "True\n",
      "False\n"
     ]
    }
   ],
   "source": [
    "x, y, z = 10, 5, 20\n",
    "\n",
    "print(x > 5 or y < 10 and z > 20)  # checking if x is greater than 5 or y is less than 10 and z is greater than 20\n",
    "print((x > 5 or y < 10) and z > 20)  # checking if (x is greater than 5 or y is less than 10) and z is greater than 20\n",
    "\n",
    "# Operators precedence\n",
    "\n",
    "# The precedence of operators in Python is as follows:\n",
    "# 1. Parentheses ()\n",
    "# 2. Exponentiation (**)\n",
    "# 3. Unary plus and minus (+, -)\n",
    "# 4. Multiplication, division, floor division, and modulus (*, /, //, %)\n",
    "# 5. Addition and subtraction (+, -)    \n",
    "# 6. Bitwise shift operators (<<, >>)\n",
    "# 7. Bitwise AND (&)\n",
    "# 8. Bitwise XOR (^)\n",
    "# 9. Bitwise OR (|)\n",
    "# 10. Comparison operators (==, !=, <, >, <=, >=)\n",
    "# 11. Assignment operators (=, +=, -=, *=, /=, //=, %=, **=, &=, |=, ^=, <<=, >>=)\n",
    "# 12. Identity operators (is, is not)\n",
    "# 13. Membership operators (in, not in)\n",
    "# 14. Logical operators (and, or, not)\n",
    "# 15. Conditional expressions (if, else)\n",
    "# 16. Lambda expressions (lambda)\n",
    "# 17. Comprehensions (list, set, dict, generator)\n",
    "# 18. Function calls and indexing ((), [], {})\n",
    "# 19. Attribute access (.)\n",
    "# 20. Slicing ([:])"
   ]
  },
  {
   "cell_type": "code",
   "execution_count": null,
   "id": "d94b9ab2",
   "metadata": {},
   "outputs": [
    {
     "name": "stdout",
     "output_type": "stream",
     "text": [
      "False\n",
      "True\n",
      "True\n",
      "True\n",
      "0\n",
      "14\n",
      "14\n",
      "40\n",
      "2\n",
      "15\n",
      "12\n",
      "24\n",
      "6.0\n"
     ]
    }
   ],
   "source": [
    "# Identity operators\n",
    "x, y = 10, 10\n",
    "print(x is y)  # checking if x is the same object as y reason is both x and y are integers with the same value\n",
    "print(x is not y)  # checking if x is not the same object as y\n",
    "# Membership operators\n",
    "my_list = [1, 2, 3, 4, 5]\n",
    "print(3 in my_list)  # checking if 3 is in my_list\n",
    "print(6 not in my_list)  # checking if 6 is not in my_list\n",
    "# Bitwise operators\n",
    "a, b = 10, 4\n",
    "print(a & b)  # Bitwise AND\n",
    "print(a | b)  # Bitwise OR\n",
    "print(a ^ b)  # Bitwise XOR\n",
    "print(a << 2)  # Bitwise left shift\n",
    "print(a >> 2)  # Bitwise right shift\n",
    "# Assignment operators\n",
    "x = 10\n",
    "x += 5  # x = x + 5\n",
    "print(x)  # x is now 15\n",
    "x -= 3  # x = x - 3\n",
    "print(x)  # x is now 12\n",
    "x *= 2  # x = x * 2\n",
    "print(x)  # x is now 24\n",
    "x /= 4  # x = x / 4\n",
    "print(x)  # x is now 6.0\n",
    "x //= 2  # x = x // 2       "
   ]
  },
  {
   "cell_type": "code",
   "execution_count": 92,
   "id": "8165d1f8",
   "metadata": {},
   "outputs": [
    {
     "name": "stdout",
     "output_type": "stream",
     "text": [
      "x is odd 17\n"
     ]
    }
   ],
   "source": [
    "# If statement\n",
    "\n",
    "x = 17\n",
    "if x % 2 == 0 :\n",
    "    print(\"x is even\" , x )\n",
    "else:\n",
    "    print(\"x is odd\" , x)\n"
   ]
  },
  {
   "cell_type": "code",
   "execution_count": null,
   "id": "1b15136a",
   "metadata": {},
   "outputs": [
    {
     "name": "stdout",
     "output_type": "stream",
     "text": [
      "not empty list\n"
     ]
    }
   ],
   "source": [
    "lis_x = [1, 2, 3, 4, 5]\n",
    " \n",
    "# if len(lis_x) != 0 :\n",
    "#     print(\" not empty\")\n",
    "# else:\n",
    "#     print(\"empty\")\n",
    "\n",
    "if lis_x: # this checks if the list is not empty checks if the list is truthy\n",
    "    print(\"not empty list\")\n",
    "else:\n",
    "    print(\"empty\")  "
   ]
  },
  {
   "cell_type": "code",
   "execution_count": 108,
   "id": "a1048dde",
   "metadata": {},
   "outputs": [
    {
     "name": "stdout",
     "output_type": "stream",
     "text": [
      "circumference Is =   12.571428571428571\n"
     ]
    }
   ],
   "source": [
    "\n",
    "PI_VALUE= 22/7\n",
    "raduis = 2\n",
    "\n",
    "if raduis >= 0 :\n",
    "    print(\"circumference Is =  \" ,  2 * PI_VALUE * raduis)\n",
    "else:\n",
    "    print(\"raduis shuld be positive maiue\")"
   ]
  },
  {
   "cell_type": "code",
   "execution_count": 112,
   "id": "060ade36",
   "metadata": {},
   "outputs": [
    {
     "name": "stdout",
     "output_type": "stream",
     "text": [
      "hypotenuse  5.0\n"
     ]
    }
   ],
   "source": [
    "side_1 = 3\n",
    "side_2 = 4\n",
    "\n",
    "if side_1 <= 0 or side_2 <= 0 :\n",
    " print(\"input correct values\")\n",
    "else:\n",
    " c = (side_1 ** 2 + side_2 ** 2 ) ** 0.5\n",
    " print(\"hypotenuse \" , c)"
   ]
  },
  {
   "cell_type": "code",
   "execution_count": null,
   "id": "3e3409c5",
   "metadata": {},
   "outputs": [],
   "source": [
    "#Membership  Operators\n",
    "\n",
    "nums  = [1,2,3,4,5]\n",
    "print(1 in nums)  # checking if 1 is in nums\n",
    "print(10 in nums) # checking if 10 is in nums\n",
    "\n",
    "print(1 not in nums) # Checking if 1 is not in nums \n",
    "print(10 not in nums) # Checking if 10 is not in nums so answer is true\n"
   ]
  }
 ],
 "metadata": {
  "kernelspec": {
   "display_name": "Python 3",
   "language": "python",
   "name": "python3"
  },
  "language_info": {
   "codemirror_mode": {
    "name": "ipython",
    "version": 3
   },
   "file_extension": ".py",
   "mimetype": "text/x-python",
   "name": "python",
   "nbconvert_exporter": "python",
   "pygments_lexer": "ipython3",
   "version": "3.13.3"
  }
 },
 "nbformat": 4,
 "nbformat_minor": 5
}
