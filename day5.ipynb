{
 "cells": [
  {
   "cell_type": "code",
   "execution_count": 2,
   "id": "initial_id",
   "metadata": {
    "ExecuteTime": {
     "end_time": "2025-07-02T03:18:52.104823Z",
     "start_time": "2025-07-02T03:18:52.097044Z"
    },
    "collapsed": true
   },
   "outputs": [
    {
     "name": "stdout",
     "output_type": "stream",
     "text": [
      "44\n",
      "54\n"
     ]
    }
   ],
   "source": [
    "#Sum() function\n",
    "\n",
    "my_list = [8,9,12,15]\n",
    "print(sum(my_list))#This will print the sum of the elements in the list: 44\n",
    "print(sum(my_list,10))# this will print the sum of the elements in the list plus 10: 54\n"
   ]
  },
  {
   "cell_type": "code",
   "execution_count": 4,
   "id": "d3a18f918d5b1bc7",
   "metadata": {
    "ExecuteTime": {
     "end_time": "2025-07-02T03:26:35.257756Z",
     "start_time": "2025-07-02T03:26:35.254086Z"
    }
   },
   "outputs": [
    {
     "name": "stdout",
     "output_type": "stream",
     "text": [
      "True\n",
      "False\n",
      "False\n"
     ]
    }
   ],
   "source": [
    "#isinstance() function\n",
    "\n",
    "my_list = [8,9,12,15]\n",
    "print(isinstance(my_list, list))#This will print True, because my_list is a list.\n",
    "print(isinstance(my_list, tuple))#This will print False, because my_list is not a tuple.\n",
    "print(isinstance(my_list, int))#This will print False, because my_list is not an integer.\n",
    "print(isinstance(my_list,(list,tuple)))#This will print True, because my_list is a list or a tuple."
   ]
  },
  {
   "cell_type": "code",
   "execution_count": null,
   "id": "116227bf4e29f3d3",
   "metadata": {},
   "outputs": [],
   "source": [
    "#f-string\n",
    "\n",
    "name = \"John\"\n",
    "age = 28\n",
    "print(\"my name is\" + name + \"and my age is\" + str(age))#This will print \"my name is John and my age is 28\".\n",
    "print(f\"my name is {name} and my age is {age}\")#This will print \"my name is John and my age is 28\"."
   ]
  }
 ],
 "metadata": {
  "kernelspec": {
   "display_name": "Python 3",
   "language": "python",
   "name": "python3"
  },
  "language_info": {
   "codemirror_mode": {
    "name": "ipython",
    "version": 3
   },
   "file_extension": ".py",
   "mimetype": "text/x-python",
   "name": "python",
   "nbconvert_exporter": "python",
   "pygments_lexer": "ipython3",
   "version": "3.13.3"
  }
 },
 "nbformat": 4,
 "nbformat_minor": 5
}
